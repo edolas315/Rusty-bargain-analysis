{
 "cells": [
  {
   "cell_type": "markdown",
   "metadata": {},
   "source": [
    "# Deskripsi Proyek\n",
    "Rusty Bargain adalah perusahaan jual beli mobil bekas yang sedang mengembangkan sebuah aplikasi untuk menarik pembeli baru. Dalam aplikasi tersebut, kamu bisa dengan cepat mengetahui nilai pasar mobilmu. Kamu memiliki akses ke data historis, spesifikasi teknis kendaraan, versi model kendaraan, dan harga kendaraan. Tugasmu adalah membuat suatu model yang mampu menentukan nilai pasar mobil.\n",
    "Rusty Bargain tertarik pada:\n",
    "\n",
    "- kualitas prediksi;\n",
    "- kecepatan model dalam memprediksi;\n",
    "- waktu yang diperlukan untuk melatih model"
   ]
  },
  {
   "cell_type": "markdown",
   "metadata": {},
   "source": [
    "# Deskripsi Data\n",
    "\n",
    "Fitur:\n",
    "- DateCrawled — tanggal ketika profil diunduh dari database\n",
    "- VehicleType — jenis bodi kendaraan\n",
    "- RegistrationYear — tahun registrasi kendaraan\n",
    "- Gearbox — jenis transmisi\n",
    "- Power — daya (hp)\n",
    "- Model — model kendaraan\n",
    "- Mileage — jarak tempuh (diukur dalam satuan km berdasarkan dataset regional tertentu)\n",
    "- RegistrationMonth — bulan registrasi kendaraan\n",
    "- FuelType — jenis bahan bakar\n",
    "- Brand — merek kendaraan\n",
    "- NotRepaired — apakah kendaraan pernah direparasi sebelumnya\n",
    "- DateCreated — tanggal pembuatan profil\n",
    "- NumberOfPictures — jumlah gambar kendaraan\n",
    "- PostalCode — kode pos pemilik profil (pengguna)\n",
    "- LastSeen — tanggal aktivitas terakhir pengguna\n",
    "\n",
    "\n",
    "Target:\n",
    "- Price — harga (dalam satuan Euro)"
   ]
  },
  {
   "cell_type": "markdown",
   "metadata": {},
   "source": [
    "# Persiapan Data"
   ]
  },
  {
   "cell_type": "code",
   "execution_count": 125,
   "metadata": {},
   "outputs": [],
   "source": [
    "import pandas as pd\n",
    "import numpy as np\n",
    "import seaborn as sns\n",
    "import matplotlib.pyplot as plt\n",
    "import math\n",
    "\n",
    "from sklearn.preprocessing import LabelEncoder\n",
    "\n",
    "from sklearn.preprocessing import StandardScaler,MaxAbsScaler\n",
    "\n",
    "from sklearn.model_selection import train_test_split, GridSearchCV\n",
    "from sklearn.linear_model import LinearRegression, LogisticRegression\n",
    "from sklearn.ensemble import RandomForestRegressor \n",
    "from lightgbm import LGBMRegressor\n",
    "from catboost import CatBoostRegressor\n",
    "from xgboost import XGBRegressor\n",
    "\n",
    "\n",
    "import time\n",
    "\n",
    "from sklearn.model_selection import cross_val_score, KFold\n",
    "from sklearn.metrics import confusion_matrix, f1_score, accuracy_score, mean_absolute_error, mean_squared_error, r2_score\n",
    "\n",
    "import warnings\n",
    "warnings.filterwarnings('ignore')"
   ]
  },
  {
   "cell_type": "code",
   "execution_count": 126,
   "metadata": {},
   "outputs": [
    {
     "data": {
      "text/html": [
       "<div>\n",
       "<style scoped>\n",
       "    .dataframe tbody tr th:only-of-type {\n",
       "        vertical-align: middle;\n",
       "    }\n",
       "\n",
       "    .dataframe tbody tr th {\n",
       "        vertical-align: top;\n",
       "    }\n",
       "\n",
       "    .dataframe thead th {\n",
       "        text-align: right;\n",
       "    }\n",
       "</style>\n",
       "<table border=\"1\" class=\"dataframe\">\n",
       "  <thead>\n",
       "    <tr style=\"text-align: right;\">\n",
       "      <th></th>\n",
       "      <th>DateCrawled</th>\n",
       "      <th>Price</th>\n",
       "      <th>VehicleType</th>\n",
       "      <th>RegistrationYear</th>\n",
       "      <th>Gearbox</th>\n",
       "      <th>Power</th>\n",
       "      <th>Model</th>\n",
       "      <th>Mileage</th>\n",
       "      <th>RegistrationMonth</th>\n",
       "      <th>FuelType</th>\n",
       "      <th>Brand</th>\n",
       "      <th>NotRepaired</th>\n",
       "      <th>DateCreated</th>\n",
       "      <th>NumberOfPictures</th>\n",
       "      <th>PostalCode</th>\n",
       "      <th>LastSeen</th>\n",
       "    </tr>\n",
       "  </thead>\n",
       "  <tbody>\n",
       "    <tr>\n",
       "      <th>0</th>\n",
       "      <td>24/03/2016 11:52</td>\n",
       "      <td>480</td>\n",
       "      <td>NaN</td>\n",
       "      <td>1993</td>\n",
       "      <td>manual</td>\n",
       "      <td>0</td>\n",
       "      <td>golf</td>\n",
       "      <td>150000</td>\n",
       "      <td>0</td>\n",
       "      <td>petrol</td>\n",
       "      <td>volkswagen</td>\n",
       "      <td>NaN</td>\n",
       "      <td>24/03/2016 00:00</td>\n",
       "      <td>0</td>\n",
       "      <td>70435</td>\n",
       "      <td>07/04/2016 03:16</td>\n",
       "    </tr>\n",
       "    <tr>\n",
       "      <th>1</th>\n",
       "      <td>24/03/2016 10:58</td>\n",
       "      <td>18300</td>\n",
       "      <td>coupe</td>\n",
       "      <td>2011</td>\n",
       "      <td>manual</td>\n",
       "      <td>190</td>\n",
       "      <td>NaN</td>\n",
       "      <td>125000</td>\n",
       "      <td>5</td>\n",
       "      <td>gasoline</td>\n",
       "      <td>audi</td>\n",
       "      <td>yes</td>\n",
       "      <td>24/03/2016 00:00</td>\n",
       "      <td>0</td>\n",
       "      <td>66954</td>\n",
       "      <td>07/04/2016 01:46</td>\n",
       "    </tr>\n",
       "    <tr>\n",
       "      <th>2</th>\n",
       "      <td>14/03/2016 12:52</td>\n",
       "      <td>9800</td>\n",
       "      <td>suv</td>\n",
       "      <td>2004</td>\n",
       "      <td>auto</td>\n",
       "      <td>163</td>\n",
       "      <td>grand</td>\n",
       "      <td>125000</td>\n",
       "      <td>8</td>\n",
       "      <td>gasoline</td>\n",
       "      <td>jeep</td>\n",
       "      <td>NaN</td>\n",
       "      <td>14/03/2016 00:00</td>\n",
       "      <td>0</td>\n",
       "      <td>90480</td>\n",
       "      <td>05/04/2016 12:47</td>\n",
       "    </tr>\n",
       "    <tr>\n",
       "      <th>3</th>\n",
       "      <td>17/03/2016 16:54</td>\n",
       "      <td>1500</td>\n",
       "      <td>small</td>\n",
       "      <td>2001</td>\n",
       "      <td>manual</td>\n",
       "      <td>75</td>\n",
       "      <td>golf</td>\n",
       "      <td>150000</td>\n",
       "      <td>6</td>\n",
       "      <td>petrol</td>\n",
       "      <td>volkswagen</td>\n",
       "      <td>no</td>\n",
       "      <td>17/03/2016 00:00</td>\n",
       "      <td>0</td>\n",
       "      <td>91074</td>\n",
       "      <td>17/03/2016 17:40</td>\n",
       "    </tr>\n",
       "    <tr>\n",
       "      <th>4</th>\n",
       "      <td>31/03/2016 17:25</td>\n",
       "      <td>3600</td>\n",
       "      <td>small</td>\n",
       "      <td>2008</td>\n",
       "      <td>manual</td>\n",
       "      <td>69</td>\n",
       "      <td>fabia</td>\n",
       "      <td>90000</td>\n",
       "      <td>7</td>\n",
       "      <td>gasoline</td>\n",
       "      <td>skoda</td>\n",
       "      <td>no</td>\n",
       "      <td>31/03/2016 00:00</td>\n",
       "      <td>0</td>\n",
       "      <td>60437</td>\n",
       "      <td>06/04/2016 10:17</td>\n",
       "    </tr>\n",
       "  </tbody>\n",
       "</table>\n",
       "</div>"
      ],
      "text/plain": [
       "        DateCrawled  Price VehicleType  RegistrationYear Gearbox  Power  \\\n",
       "0  24/03/2016 11:52    480         NaN              1993  manual      0   \n",
       "1  24/03/2016 10:58  18300       coupe              2011  manual    190   \n",
       "2  14/03/2016 12:52   9800         suv              2004    auto    163   \n",
       "3  17/03/2016 16:54   1500       small              2001  manual     75   \n",
       "4  31/03/2016 17:25   3600       small              2008  manual     69   \n",
       "\n",
       "   Model  Mileage  RegistrationMonth  FuelType       Brand NotRepaired  \\\n",
       "0   golf   150000                  0    petrol  volkswagen         NaN   \n",
       "1    NaN   125000                  5  gasoline        audi         yes   \n",
       "2  grand   125000                  8  gasoline        jeep         NaN   \n",
       "3   golf   150000                  6    petrol  volkswagen          no   \n",
       "4  fabia    90000                  7  gasoline       skoda          no   \n",
       "\n",
       "        DateCreated  NumberOfPictures  PostalCode          LastSeen  \n",
       "0  24/03/2016 00:00                 0       70435  07/04/2016 03:16  \n",
       "1  24/03/2016 00:00                 0       66954  07/04/2016 01:46  \n",
       "2  14/03/2016 00:00                 0       90480  05/04/2016 12:47  \n",
       "3  17/03/2016 00:00                 0       91074  17/03/2016 17:40  \n",
       "4  31/03/2016 00:00                 0       60437  06/04/2016 10:17  "
      ]
     },
     "execution_count": 126,
     "metadata": {},
     "output_type": "execute_result"
    }
   ],
   "source": [
    "df = pd.read_csv('/datasets/car_data.csv')\n",
    "df.head()"
   ]
  },
  {
   "cell_type": "code",
   "execution_count": 127,
   "metadata": {},
   "outputs": [
    {
     "name": "stdout",
     "output_type": "stream",
     "text": [
      "<class 'pandas.core.frame.DataFrame'>\n",
      "RangeIndex: 354369 entries, 0 to 354368\n",
      "Data columns (total 16 columns):\n",
      " #   Column             Non-Null Count   Dtype \n",
      "---  ------             --------------   ----- \n",
      " 0   DateCrawled        354369 non-null  object\n",
      " 1   Price              354369 non-null  int64 \n",
      " 2   VehicleType        316879 non-null  object\n",
      " 3   RegistrationYear   354369 non-null  int64 \n",
      " 4   Gearbox            334536 non-null  object\n",
      " 5   Power              354369 non-null  int64 \n",
      " 6   Model              334664 non-null  object\n",
      " 7   Mileage            354369 non-null  int64 \n",
      " 8   RegistrationMonth  354369 non-null  int64 \n",
      " 9   FuelType           321474 non-null  object\n",
      " 10  Brand              354369 non-null  object\n",
      " 11  NotRepaired        283215 non-null  object\n",
      " 12  DateCreated        354369 non-null  object\n",
      " 13  NumberOfPictures   354369 non-null  int64 \n",
      " 14  PostalCode         354369 non-null  int64 \n",
      " 15  LastSeen           354369 non-null  object\n",
      "dtypes: int64(7), object(9)\n",
      "memory usage: 43.3+ MB\n"
     ]
    }
   ],
   "source": [
    "df.info()"
   ]
  },
  {
   "cell_type": "code",
   "execution_count": 128,
   "metadata": {},
   "outputs": [
    {
     "data": {
      "text/html": [
       "<div>\n",
       "<style scoped>\n",
       "    .dataframe tbody tr th:only-of-type {\n",
       "        vertical-align: middle;\n",
       "    }\n",
       "\n",
       "    .dataframe tbody tr th {\n",
       "        vertical-align: top;\n",
       "    }\n",
       "\n",
       "    .dataframe thead th {\n",
       "        text-align: right;\n",
       "    }\n",
       "</style>\n",
       "<table border=\"1\" class=\"dataframe\">\n",
       "  <thead>\n",
       "    <tr style=\"text-align: right;\">\n",
       "      <th></th>\n",
       "      <th>Price</th>\n",
       "      <th>RegistrationYear</th>\n",
       "      <th>Power</th>\n",
       "      <th>Mileage</th>\n",
       "      <th>RegistrationMonth</th>\n",
       "      <th>NumberOfPictures</th>\n",
       "      <th>PostalCode</th>\n",
       "    </tr>\n",
       "  </thead>\n",
       "  <tbody>\n",
       "    <tr>\n",
       "      <th>count</th>\n",
       "      <td>354369.000000</td>\n",
       "      <td>354369.000000</td>\n",
       "      <td>354369.000000</td>\n",
       "      <td>354369.000000</td>\n",
       "      <td>354369.000000</td>\n",
       "      <td>354369.0</td>\n",
       "      <td>354369.000000</td>\n",
       "    </tr>\n",
       "    <tr>\n",
       "      <th>mean</th>\n",
       "      <td>4416.656776</td>\n",
       "      <td>2004.234448</td>\n",
       "      <td>110.094337</td>\n",
       "      <td>128211.172535</td>\n",
       "      <td>5.714645</td>\n",
       "      <td>0.0</td>\n",
       "      <td>50508.689087</td>\n",
       "    </tr>\n",
       "    <tr>\n",
       "      <th>std</th>\n",
       "      <td>4514.158514</td>\n",
       "      <td>90.227958</td>\n",
       "      <td>189.850405</td>\n",
       "      <td>37905.341530</td>\n",
       "      <td>3.726421</td>\n",
       "      <td>0.0</td>\n",
       "      <td>25783.096248</td>\n",
       "    </tr>\n",
       "    <tr>\n",
       "      <th>min</th>\n",
       "      <td>0.000000</td>\n",
       "      <td>1000.000000</td>\n",
       "      <td>0.000000</td>\n",
       "      <td>5000.000000</td>\n",
       "      <td>0.000000</td>\n",
       "      <td>0.0</td>\n",
       "      <td>1067.000000</td>\n",
       "    </tr>\n",
       "    <tr>\n",
       "      <th>25%</th>\n",
       "      <td>1050.000000</td>\n",
       "      <td>1999.000000</td>\n",
       "      <td>69.000000</td>\n",
       "      <td>125000.000000</td>\n",
       "      <td>3.000000</td>\n",
       "      <td>0.0</td>\n",
       "      <td>30165.000000</td>\n",
       "    </tr>\n",
       "    <tr>\n",
       "      <th>50%</th>\n",
       "      <td>2700.000000</td>\n",
       "      <td>2003.000000</td>\n",
       "      <td>105.000000</td>\n",
       "      <td>150000.000000</td>\n",
       "      <td>6.000000</td>\n",
       "      <td>0.0</td>\n",
       "      <td>49413.000000</td>\n",
       "    </tr>\n",
       "    <tr>\n",
       "      <th>75%</th>\n",
       "      <td>6400.000000</td>\n",
       "      <td>2008.000000</td>\n",
       "      <td>143.000000</td>\n",
       "      <td>150000.000000</td>\n",
       "      <td>9.000000</td>\n",
       "      <td>0.0</td>\n",
       "      <td>71083.000000</td>\n",
       "    </tr>\n",
       "    <tr>\n",
       "      <th>max</th>\n",
       "      <td>20000.000000</td>\n",
       "      <td>9999.000000</td>\n",
       "      <td>20000.000000</td>\n",
       "      <td>150000.000000</td>\n",
       "      <td>12.000000</td>\n",
       "      <td>0.0</td>\n",
       "      <td>99998.000000</td>\n",
       "    </tr>\n",
       "  </tbody>\n",
       "</table>\n",
       "</div>"
      ],
      "text/plain": [
       "               Price  RegistrationYear          Power        Mileage  \\\n",
       "count  354369.000000     354369.000000  354369.000000  354369.000000   \n",
       "mean     4416.656776       2004.234448     110.094337  128211.172535   \n",
       "std      4514.158514         90.227958     189.850405   37905.341530   \n",
       "min         0.000000       1000.000000       0.000000    5000.000000   \n",
       "25%      1050.000000       1999.000000      69.000000  125000.000000   \n",
       "50%      2700.000000       2003.000000     105.000000  150000.000000   \n",
       "75%      6400.000000       2008.000000     143.000000  150000.000000   \n",
       "max     20000.000000       9999.000000   20000.000000  150000.000000   \n",
       "\n",
       "       RegistrationMonth  NumberOfPictures     PostalCode  \n",
       "count      354369.000000          354369.0  354369.000000  \n",
       "mean            5.714645               0.0   50508.689087  \n",
       "std             3.726421               0.0   25783.096248  \n",
       "min             0.000000               0.0    1067.000000  \n",
       "25%             3.000000               0.0   30165.000000  \n",
       "50%             6.000000               0.0   49413.000000  \n",
       "75%             9.000000               0.0   71083.000000  \n",
       "max            12.000000               0.0   99998.000000  "
      ]
     },
     "execution_count": 128,
     "metadata": {},
     "output_type": "execute_result"
    }
   ],
   "source": [
    "df.describe()"
   ]
  },
  {
   "cell_type": "code",
   "execution_count": 129,
   "metadata": {},
   "outputs": [
    {
     "data": {
      "text/html": [
       "<div>\n",
       "<style scoped>\n",
       "    .dataframe tbody tr th:only-of-type {\n",
       "        vertical-align: middle;\n",
       "    }\n",
       "\n",
       "    .dataframe tbody tr th {\n",
       "        vertical-align: top;\n",
       "    }\n",
       "\n",
       "    .dataframe thead th {\n",
       "        text-align: right;\n",
       "    }\n",
       "</style>\n",
       "<table border=\"1\" class=\"dataframe\">\n",
       "  <thead>\n",
       "    <tr style=\"text-align: right;\">\n",
       "      <th></th>\n",
       "      <th>DateCrawled</th>\n",
       "      <th>VehicleType</th>\n",
       "      <th>Gearbox</th>\n",
       "      <th>Model</th>\n",
       "      <th>FuelType</th>\n",
       "      <th>Brand</th>\n",
       "      <th>NotRepaired</th>\n",
       "      <th>DateCreated</th>\n",
       "      <th>LastSeen</th>\n",
       "    </tr>\n",
       "  </thead>\n",
       "  <tbody>\n",
       "    <tr>\n",
       "      <th>count</th>\n",
       "      <td>354369</td>\n",
       "      <td>316879</td>\n",
       "      <td>334536</td>\n",
       "      <td>334664</td>\n",
       "      <td>321474</td>\n",
       "      <td>354369</td>\n",
       "      <td>283215</td>\n",
       "      <td>354369</td>\n",
       "      <td>354369</td>\n",
       "    </tr>\n",
       "    <tr>\n",
       "      <th>unique</th>\n",
       "      <td>15470</td>\n",
       "      <td>8</td>\n",
       "      <td>2</td>\n",
       "      <td>250</td>\n",
       "      <td>7</td>\n",
       "      <td>40</td>\n",
       "      <td>2</td>\n",
       "      <td>109</td>\n",
       "      <td>18592</td>\n",
       "    </tr>\n",
       "    <tr>\n",
       "      <th>top</th>\n",
       "      <td>05/03/2016 14:25</td>\n",
       "      <td>sedan</td>\n",
       "      <td>manual</td>\n",
       "      <td>golf</td>\n",
       "      <td>petrol</td>\n",
       "      <td>volkswagen</td>\n",
       "      <td>no</td>\n",
       "      <td>03/04/2016 00:00</td>\n",
       "      <td>07/04/2016 07:16</td>\n",
       "    </tr>\n",
       "    <tr>\n",
       "      <th>freq</th>\n",
       "      <td>66</td>\n",
       "      <td>91457</td>\n",
       "      <td>268251</td>\n",
       "      <td>29232</td>\n",
       "      <td>216352</td>\n",
       "      <td>77013</td>\n",
       "      <td>247161</td>\n",
       "      <td>13719</td>\n",
       "      <td>654</td>\n",
       "    </tr>\n",
       "  </tbody>\n",
       "</table>\n",
       "</div>"
      ],
      "text/plain": [
       "             DateCrawled VehicleType Gearbox   Model FuelType       Brand  \\\n",
       "count             354369      316879  334536  334664   321474      354369   \n",
       "unique             15470           8       2     250        7          40   \n",
       "top     05/03/2016 14:25       sedan  manual    golf   petrol  volkswagen   \n",
       "freq                  66       91457  268251   29232   216352       77013   \n",
       "\n",
       "       NotRepaired       DateCreated          LastSeen  \n",
       "count       283215            354369            354369  \n",
       "unique           2               109             18592  \n",
       "top             no  03/04/2016 00:00  07/04/2016 07:16  \n",
       "freq        247161             13719               654  "
      ]
     },
     "execution_count": 129,
     "metadata": {},
     "output_type": "execute_result"
    }
   ],
   "source": [
    "df.describe(include='O')"
   ]
  },
  {
   "cell_type": "code",
   "execution_count": 130,
   "metadata": {},
   "outputs": [
    {
     "data": {
      "text/plain": [
       "DateCrawled              0\n",
       "Price                    0\n",
       "VehicleType          37490\n",
       "RegistrationYear         0\n",
       "Gearbox              19833\n",
       "Power                    0\n",
       "Model                19705\n",
       "Mileage                  0\n",
       "RegistrationMonth        0\n",
       "FuelType             32895\n",
       "Brand                    0\n",
       "NotRepaired          71154\n",
       "DateCreated              0\n",
       "NumberOfPictures         0\n",
       "PostalCode               0\n",
       "LastSeen                 0\n",
       "dtype: int64"
      ]
     },
     "execution_count": 130,
     "metadata": {},
     "output_type": "execute_result"
    }
   ],
   "source": [
    "df.isna().sum()"
   ]
  },
  {
   "cell_type": "code",
   "execution_count": 131,
   "metadata": {},
   "outputs": [
    {
     "data": {
      "text/plain": [
       "262"
      ]
     },
     "execution_count": 131,
     "metadata": {},
     "output_type": "execute_result"
    }
   ],
   "source": [
    "df.duplicated().sum()"
   ]
  },
  {
   "cell_type": "markdown",
   "metadata": {},
   "source": [
    "Ditemukan terdapat banyak masalah yang perlu dipertimbangkan. Masalah-masalah tersebut adalah:\n",
    "- Nama kolom dalam huruf besar\n",
    "- Terdapat nilai kosong dan nilai duplikasi\n",
    "- Kolom-kolom berisikan tanggal dan waktu masih bertipe *object*, kolom tersebut perlu diubah menjadi tipe *datetime*\n"
   ]
  },
  {
   "cell_type": "markdown",
   "metadata": {},
   "source": [
    "## Data Pre-processing"
   ]
  },
  {
   "cell_type": "code",
   "execution_count": 132,
   "metadata": {},
   "outputs": [
    {
     "data": {
      "text/html": [
       "<div>\n",
       "<style scoped>\n",
       "    .dataframe tbody tr th:only-of-type {\n",
       "        vertical-align: middle;\n",
       "    }\n",
       "\n",
       "    .dataframe tbody tr th {\n",
       "        vertical-align: top;\n",
       "    }\n",
       "\n",
       "    .dataframe thead th {\n",
       "        text-align: right;\n",
       "    }\n",
       "</style>\n",
       "<table border=\"1\" class=\"dataframe\">\n",
       "  <thead>\n",
       "    <tr style=\"text-align: right;\">\n",
       "      <th></th>\n",
       "      <th>date_crawled</th>\n",
       "      <th>price</th>\n",
       "      <th>vehicle_type</th>\n",
       "      <th>registration_year</th>\n",
       "      <th>gearbox</th>\n",
       "      <th>power</th>\n",
       "      <th>model</th>\n",
       "      <th>mileage</th>\n",
       "      <th>registration_month</th>\n",
       "      <th>fuel_type</th>\n",
       "      <th>brand</th>\n",
       "      <th>not_repaired</th>\n",
       "      <th>date_created</th>\n",
       "      <th>number_of_pictures</th>\n",
       "      <th>postal_code</th>\n",
       "      <th>last_seen</th>\n",
       "    </tr>\n",
       "  </thead>\n",
       "  <tbody>\n",
       "    <tr>\n",
       "      <th>0</th>\n",
       "      <td>24/03/2016 11:52</td>\n",
       "      <td>480</td>\n",
       "      <td>NaN</td>\n",
       "      <td>1993</td>\n",
       "      <td>manual</td>\n",
       "      <td>0</td>\n",
       "      <td>golf</td>\n",
       "      <td>150000</td>\n",
       "      <td>0</td>\n",
       "      <td>petrol</td>\n",
       "      <td>volkswagen</td>\n",
       "      <td>NaN</td>\n",
       "      <td>24/03/2016 00:00</td>\n",
       "      <td>0</td>\n",
       "      <td>70435</td>\n",
       "      <td>07/04/2016 03:16</td>\n",
       "    </tr>\n",
       "    <tr>\n",
       "      <th>1</th>\n",
       "      <td>24/03/2016 10:58</td>\n",
       "      <td>18300</td>\n",
       "      <td>coupe</td>\n",
       "      <td>2011</td>\n",
       "      <td>manual</td>\n",
       "      <td>190</td>\n",
       "      <td>NaN</td>\n",
       "      <td>125000</td>\n",
       "      <td>5</td>\n",
       "      <td>gasoline</td>\n",
       "      <td>audi</td>\n",
       "      <td>yes</td>\n",
       "      <td>24/03/2016 00:00</td>\n",
       "      <td>0</td>\n",
       "      <td>66954</td>\n",
       "      <td>07/04/2016 01:46</td>\n",
       "    </tr>\n",
       "    <tr>\n",
       "      <th>2</th>\n",
       "      <td>14/03/2016 12:52</td>\n",
       "      <td>9800</td>\n",
       "      <td>suv</td>\n",
       "      <td>2004</td>\n",
       "      <td>auto</td>\n",
       "      <td>163</td>\n",
       "      <td>grand</td>\n",
       "      <td>125000</td>\n",
       "      <td>8</td>\n",
       "      <td>gasoline</td>\n",
       "      <td>jeep</td>\n",
       "      <td>NaN</td>\n",
       "      <td>14/03/2016 00:00</td>\n",
       "      <td>0</td>\n",
       "      <td>90480</td>\n",
       "      <td>05/04/2016 12:47</td>\n",
       "    </tr>\n",
       "    <tr>\n",
       "      <th>3</th>\n",
       "      <td>17/03/2016 16:54</td>\n",
       "      <td>1500</td>\n",
       "      <td>small</td>\n",
       "      <td>2001</td>\n",
       "      <td>manual</td>\n",
       "      <td>75</td>\n",
       "      <td>golf</td>\n",
       "      <td>150000</td>\n",
       "      <td>6</td>\n",
       "      <td>petrol</td>\n",
       "      <td>volkswagen</td>\n",
       "      <td>no</td>\n",
       "      <td>17/03/2016 00:00</td>\n",
       "      <td>0</td>\n",
       "      <td>91074</td>\n",
       "      <td>17/03/2016 17:40</td>\n",
       "    </tr>\n",
       "    <tr>\n",
       "      <th>4</th>\n",
       "      <td>31/03/2016 17:25</td>\n",
       "      <td>3600</td>\n",
       "      <td>small</td>\n",
       "      <td>2008</td>\n",
       "      <td>manual</td>\n",
       "      <td>69</td>\n",
       "      <td>fabia</td>\n",
       "      <td>90000</td>\n",
       "      <td>7</td>\n",
       "      <td>gasoline</td>\n",
       "      <td>skoda</td>\n",
       "      <td>no</td>\n",
       "      <td>31/03/2016 00:00</td>\n",
       "      <td>0</td>\n",
       "      <td>60437</td>\n",
       "      <td>06/04/2016 10:17</td>\n",
       "    </tr>\n",
       "  </tbody>\n",
       "</table>\n",
       "</div>"
      ],
      "text/plain": [
       "       date_crawled  price vehicle_type  registration_year gearbox  power  \\\n",
       "0  24/03/2016 11:52    480          NaN               1993  manual      0   \n",
       "1  24/03/2016 10:58  18300        coupe               2011  manual    190   \n",
       "2  14/03/2016 12:52   9800          suv               2004    auto    163   \n",
       "3  17/03/2016 16:54   1500        small               2001  manual     75   \n",
       "4  31/03/2016 17:25   3600        small               2008  manual     69   \n",
       "\n",
       "   model  mileage  registration_month fuel_type       brand not_repaired  \\\n",
       "0   golf   150000                   0    petrol  volkswagen          NaN   \n",
       "1    NaN   125000                   5  gasoline        audi          yes   \n",
       "2  grand   125000                   8  gasoline        jeep          NaN   \n",
       "3   golf   150000                   6    petrol  volkswagen           no   \n",
       "4  fabia    90000                   7  gasoline       skoda           no   \n",
       "\n",
       "       date_created  number_of_pictures  postal_code         last_seen  \n",
       "0  24/03/2016 00:00                   0        70435  07/04/2016 03:16  \n",
       "1  24/03/2016 00:00                   0        66954  07/04/2016 01:46  \n",
       "2  14/03/2016 00:00                   0        90480  05/04/2016 12:47  \n",
       "3  17/03/2016 00:00                   0        91074  17/03/2016 17:40  \n",
       "4  31/03/2016 00:00                   0        60437  06/04/2016 10:17  "
      ]
     },
     "execution_count": 132,
     "metadata": {},
     "output_type": "execute_result"
    }
   ],
   "source": [
    "# Mengubah nama kolom menjadi huruf kecil\n",
    "df.columns = df.columns.str.lower() \n",
    "df.rename(columns={'datecrawled': 'date_crawled', 'vehicletype': \"vehicle_type\", 'registrationyear': \"registration_year\", 'registrationmonth':'registration_month',\n",
    "                   'fueltype':'fuel_type', 'notrepaired':'not_repaired', 'datecreated':'date_created', 'numberofpictures':'number_of_pictures',\n",
    "                   'postalcode':'postal_code', 'lastseen':'last_seen'}, inplace=True)\n",
    "\n",
    "df.head()"
   ]
  },
  {
   "cell_type": "code",
   "execution_count": 133,
   "metadata": {},
   "outputs": [],
   "source": [
    "# Menghapus data duplikasi\n",
    "df.drop_duplicates(inplace = True)"
   ]
  },
  {
   "cell_type": "code",
   "execution_count": 134,
   "metadata": {},
   "outputs": [],
   "source": [
    "df['date_crawled'] = pd.to_datetime(df['date_crawled'])\n",
    "df['date_created'] = pd.to_datetime(df['date_created'])\n",
    "df['last_seen'] = pd.to_datetime(df['last_seen'])"
   ]
  },
  {
   "cell_type": "markdown",
   "metadata": {},
   "source": [
    "## Mengisi nilai hilang"
   ]
  },
  {
   "cell_type": "code",
   "execution_count": 135,
   "metadata": {},
   "outputs": [],
   "source": [
    "# Data dipisah menjadi train_dataset dan test_dataset agar tidak terjadi overfitting pada test data saat melakukan modelling \n",
    "train_dataset, test_dataset = train_test_split(df, \n",
    "                                               test_size = 0.25, \n",
    "                                               random_state = 12345)"
   ]
  },
  {
   "cell_type": "code",
   "execution_count": 136,
   "metadata": {},
   "outputs": [
    {
     "name": "stdout",
     "output_type": "stream",
     "text": [
      "train size (265580, 16)\n",
      "test size (88527, 16)\n"
     ]
    }
   ],
   "source": [
    "print('train size', train_dataset.shape)\n",
    "print('test size',test_dataset.shape)"
   ]
  },
  {
   "cell_type": "code",
   "execution_count": 137,
   "metadata": {
    "scrolled": true
   },
   "outputs": [
    {
     "data": {
      "text/plain": [
       "date_crawled              0\n",
       "price                     0\n",
       "vehicle_type          28068\n",
       "registration_year         0\n",
       "gearbox               14909\n",
       "power                     0\n",
       "model                 14683\n",
       "mileage                   0\n",
       "registration_month        0\n",
       "fuel_type             24654\n",
       "brand                     0\n",
       "not_repaired          53425\n",
       "date_created              0\n",
       "number_of_pictures        0\n",
       "postal_code               0\n",
       "last_seen                 0\n",
       "dtype: int64"
      ]
     },
     "execution_count": 137,
     "metadata": {},
     "output_type": "execute_result"
    }
   ],
   "source": [
    "train_dataset.isna().sum()"
   ]
  },
  {
   "cell_type": "markdown",
   "metadata": {},
   "source": [
    "### Vehicle_type"
   ]
  },
  {
   "cell_type": "code",
   "execution_count": 138,
   "metadata": {},
   "outputs": [
    {
     "name": "stdout",
     "output_type": "stream",
     "text": [
      "Dataset training: 28068\n",
      "Dataset test: 9416\n"
     ]
    }
   ],
   "source": [
    "# Missing value vehicle_type pada dataset training dan test\n",
    "print('Dataset training:', train_dataset['vehicle_type'].isna().sum())\n",
    "print('Dataset test:', test_dataset['vehicle_type'].isna().sum())"
   ]
  },
  {
   "cell_type": "markdown",
   "metadata": {},
   "source": [
    "Pada kolom **vehicle_type** dataset training memiliki 28068 nilai hilang dan dataset test memiliki 9416 dan dengan banyaknya kemungkinan nilai yang memungkinkan isinya, nilai hilang ini akan dimasukan ke dalam kategori *other*."
   ]
  },
  {
   "cell_type": "code",
   "execution_count": 139,
   "metadata": {},
   "outputs": [],
   "source": [
    "# Mengisi nilai hilang pada kolom vehicle_type dengan other\n",
    "train_dataset['vehicle_type'].fillna('other', inplace = True)\n",
    "test_dataset['vehicle_type'].fillna('other', inplace = True)\n"
   ]
  },
  {
   "cell_type": "markdown",
   "metadata": {},
   "source": [
    "### Gearbox"
   ]
  },
  {
   "cell_type": "code",
   "execution_count": 140,
   "metadata": {},
   "outputs": [
    {
     "name": "stdout",
     "output_type": "stream",
     "text": [
      "Dataset training: 14909\n",
      "Dataset test: 4921\n"
     ]
    }
   ],
   "source": [
    "# Missing value gearbox pada dataset training dan test\n",
    "print('Dataset training:', train_dataset['gearbox'].isna().sum())\n",
    "print('Dataset test:', test_dataset['gearbox'].isna().sum())"
   ]
  },
  {
   "cell_type": "code",
   "execution_count": 141,
   "metadata": {},
   "outputs": [
    {
     "name": "stdout",
     "output_type": "stream",
     "text": [
      "Dataset training: 14909\n",
      "Dataset test: 4921\n"
     ]
    }
   ],
   "source": [
    "# Missing value gearbox pada dataset training dan test\n",
    "print('Dataset training:', train_dataset['gearbox'].isna().sum())\n",
    "print('Dataset test:', test_dataset['gearbox'].isna().sum())"
   ]
  },
  {
   "cell_type": "markdown",
   "metadata": {},
   "source": [
    "Pada kolom **gearbox** dataset training memiliki 14909 nilai hilang dan dataset test memiliki 4921.Dengan sulitynya menemukan nilai yang sesuai, nilai hilaing akan diisi dengan nilai *unknown*."
   ]
  },
  {
   "cell_type": "code",
   "execution_count": 142,
   "metadata": {},
   "outputs": [],
   "source": [
    "# Menigisi nilai hilang pada kolom gearbox dengan unknown\n",
    "train_dataset['gearbox'].fillna('unknown', inplace = True)\n",
    "test_dataset['gearbox'].fillna('unknown', inplace = True)"
   ]
  },
  {
   "cell_type": "markdown",
   "metadata": {},
   "source": [
    "### Model"
   ]
  },
  {
   "cell_type": "code",
   "execution_count": 143,
   "metadata": {},
   "outputs": [
    {
     "name": "stdout",
     "output_type": "stream",
     "text": [
      "Dataset training: 14683\n",
      "Dataset test: 5018\n"
     ]
    }
   ],
   "source": [
    "# Missing value model pada dataset training dan test\n",
    "print('Dataset training:', train_dataset['model'].isna().sum())\n",
    "print('Dataset test:', test_dataset['model'].isna().sum())"
   ]
  },
  {
   "cell_type": "markdown",
   "metadata": {},
   "source": [
    "Pada kolom **model** dataset training memiliki 14683 nilai hilang dan dataset test memiliki 5018. Dengan banyaknya kemungkinan untuk mengisi nilai hilang, akan lebih baik mengisi nilai hilang dengan nilai *other*."
   ]
  },
  {
   "cell_type": "code",
   "execution_count": 144,
   "metadata": {},
   "outputs": [],
   "source": [
    "# Menigisi nilai hilang pada kolom model dengan other\n",
    "train_dataset['model'].fillna('other', inplace = True)\n",
    "test_dataset['model'].fillna('other', inplace = True)"
   ]
  },
  {
   "cell_type": "markdown",
   "metadata": {},
   "source": [
    "### Fuel_type"
   ]
  },
  {
   "cell_type": "code",
   "execution_count": 145,
   "metadata": {},
   "outputs": [
    {
     "name": "stdout",
     "output_type": "stream",
     "text": [
      "Dataset training: 24654\n",
      "Dataset test: 8235\n"
     ]
    }
   ],
   "source": [
    "# Missing value fuel_type pada dataset training dan test\n",
    "print('Dataset training:', train_dataset['fuel_type'].isna().sum())\n",
    "print('Dataset test:', test_dataset['fuel_type'].isna().sum())"
   ]
  },
  {
   "cell_type": "markdown",
   "metadata": {},
   "source": [
    "Pada kolom **fuel_type** dataset training memiliki 24654 nilai hilang dan dataset test memiliki 8235. Dengan banyaknya kemungkinan untuk mengisi nilai hilang, akan lebih baik mengisi nilai hilang dengan nilai *other*."
   ]
  },
  {
   "cell_type": "code",
   "execution_count": 146,
   "metadata": {},
   "outputs": [],
   "source": [
    "# Menigisi nilai hilang pada kolom fuel_type dengan other\n",
    "train_dataset['fuel_type'].fillna('other', inplace = True)\n",
    "test_dataset['fuel_type'].fillna('other', inplace = True)\n"
   ]
  },
  {
   "cell_type": "markdown",
   "metadata": {},
   "source": [
    "### Not repaired"
   ]
  },
  {
   "cell_type": "code",
   "execution_count": 147,
   "metadata": {},
   "outputs": [
    {
     "name": "stdout",
     "output_type": "stream",
     "text": [
      "Dataset training: 53425\n",
      "Dataset test: 17720\n"
     ]
    }
   ],
   "source": [
    "# Missing value fuel_type pada dataset training dan test\n",
    "print('Dataset training:', train_dataset['not_repaired'].isna().sum())\n",
    "print('Dataset test:', test_dataset['not_repaired'].isna().sum())"
   ]
  },
  {
   "cell_type": "markdown",
   "metadata": {},
   "source": [
    "Pada kolom **not_repaired** dataset training memiliki 53425 nilai hilang dan dataset test memiliki 17720. Dengan banyaknya nilai hilang akan lebih baik mengisi nilai hilang dengan nilai *unknown*."
   ]
  },
  {
   "cell_type": "code",
   "execution_count": 148,
   "metadata": {},
   "outputs": [],
   "source": [
    "# Menigisi nilai hilang pada kolom not_repaired dengan unknown\n",
    "train_dataset['not_repaired'].fillna('unknown', inplace = True)\n",
    "test_dataset['not_repaired'].fillna('unknown', inplace = True)"
   ]
  },
  {
   "cell_type": "code",
   "execution_count": 149,
   "metadata": {},
   "outputs": [
    {
     "data": {
      "text/plain": [
       "date_crawled          0\n",
       "price                 0\n",
       "vehicle_type          0\n",
       "registration_year     0\n",
       "gearbox               0\n",
       "power                 0\n",
       "model                 0\n",
       "mileage               0\n",
       "registration_month    0\n",
       "fuel_type             0\n",
       "brand                 0\n",
       "not_repaired          0\n",
       "date_created          0\n",
       "number_of_pictures    0\n",
       "postal_code           0\n",
       "last_seen             0\n",
       "dtype: int64"
      ]
     },
     "execution_count": 149,
     "metadata": {},
     "output_type": "execute_result"
    }
   ],
   "source": [
    "train_dataset.isna().sum()"
   ]
  },
  {
   "cell_type": "code",
   "execution_count": 150,
   "metadata": {},
   "outputs": [
    {
     "data": {
      "text/plain": [
       "date_crawled          0\n",
       "price                 0\n",
       "vehicle_type          0\n",
       "registration_year     0\n",
       "gearbox               0\n",
       "power                 0\n",
       "model                 0\n",
       "mileage               0\n",
       "registration_month    0\n",
       "fuel_type             0\n",
       "brand                 0\n",
       "not_repaired          0\n",
       "date_created          0\n",
       "number_of_pictures    0\n",
       "postal_code           0\n",
       "last_seen             0\n",
       "dtype: int64"
      ]
     },
     "execution_count": 150,
     "metadata": {},
     "output_type": "execute_result"
    }
   ],
   "source": [
    "test_dataset.isna().sum()"
   ]
  },
  {
   "cell_type": "markdown",
   "metadata": {},
   "source": [
    "## EDA"
   ]
  },
  {
   "cell_type": "code",
   "execution_count": 151,
   "metadata": {},
   "outputs": [],
   "source": [
    "train_eda = train_dataset.copy()"
   ]
  },
  {
   "cell_type": "code",
   "execution_count": 152,
   "metadata": {},
   "outputs": [
    {
     "data": {
      "image/png": "[encoded data removed]",
      "text/plain": [
       "<Figure size 1080x360 with 2 Axes>"
      ]
     },
     "metadata": {
      "needs_background": "light"
     },
     "output_type": "display_data"
    }
   ],
   "source": [
    "i = 1\n",
    "plt.figure(figsize = (15,5))\n",
    "re_column = ['power','mileage']\n",
    "for column in re_column:\n",
    "    plt.subplot(1,2,i)\n",
    "    plt.tight_layout()\n",
    "    sns.boxplot(train_eda[column], orient = 'h')\n",
    "    plt.title(column)\n",
    "    \n",
    "    i +=1"
   ]
  },
  {
   "cell_type": "markdown",
   "metadata": {},
   "source": [
    "Ditemukan dari violinplot pada kolom **power** secara mayoritas nilainya terpusat pada nilai disebelah kiri. Ditemukan juga terfapat nilai 0 pada kolom tersebut yang tidak mungkin terjadi. Maka, nilai 0 tersebut akan dianggap sebagai nilai hilang dan diisi kembali dengan nilai yang sesuai. Nilai outlier juga harus dibersihkan. Untuk kolom **mileage**, terdapat outlier yang perlu dibersihkan."
   ]
  },
  {
   "cell_type": "code",
   "execution_count": 153,
   "metadata": {},
   "outputs": [],
   "source": [
    "# Fungsi untuk menghapus outlier\n",
    "def outlier_remover(df, column):\n",
    "    Q1 = df[column].quantile(0.25)\n",
    "    Q3 = df[column].quantile(0.75)\n",
    "    IQR = Q3 - Q1\n",
    "\n",
    "    upper_whisker = Q3 + IQR * 1.5\n",
    "    lower_whisker = Q1 - IQR * 1.5 \n",
    "\n",
    "    x = df[~((df[column] < lower_whisker) | (df[column] > upper_whisker))]\n",
    "    return x"
   ]
  },
  {
   "cell_type": "code",
   "execution_count": 154,
   "metadata": {},
   "outputs": [],
   "source": [
    "group_means = train_eda.groupby('vehicle_type')['power'].mean()"
   ]
  },
  {
   "cell_type": "code",
   "execution_count": 155,
   "metadata": {},
   "outputs": [
    {
     "data": {
      "text/plain": [
       "30115"
      ]
     },
     "execution_count": 155,
     "metadata": {},
     "output_type": "execute_result"
    }
   ],
   "source": [
    "train_eda.loc[train_eda['power'] == 0, 'power'].count()"
   ]
  },
  {
   "cell_type": "markdown",
   "metadata": {},
   "source": [
    "Terdapat 30115 data pada kolom **power** dengan nilai 0. "
   ]
  },
  {
   "cell_type": "code",
   "execution_count": 156,
   "metadata": {},
   "outputs": [],
   "source": [
    "# Mengubah nilai 0 pada kolom power menjadi 0\n",
    "train_eda['power'].replace(0, np.nan, inplace=True)"
   ]
  },
  {
   "cell_type": "code",
   "execution_count": 157,
   "metadata": {},
   "outputs": [],
   "source": [
    "# Mengisi nilai hilang pada kolom 0 dengan mean kolom power dari setiap vehicle_type\n",
    "train_eda['power'].fillna(train_eda['vehicle_type'].map(group_means), inplace = True)"
   ]
  },
  {
   "cell_type": "code",
   "execution_count": 158,
   "metadata": {},
   "outputs": [],
   "source": [
    "# Menghapus outlier dari kolom power dan mileage\n",
    "train_eda = outlier_remover(df = train_eda, column = 'power')\n",
    "train_eda = outlier_remover(df = train_eda, column = 'mileage')"
   ]
  },
  {
   "cell_type": "code",
   "execution_count": 159,
   "metadata": {},
   "outputs": [
    {
     "name": "stdout",
     "output_type": "stream",
     "text": [
      "Jumlah data yang dihapus dari menghapus outlier adalah: 45395\n",
      "Jumlah data yang tersisa : 220185\n"
     ]
    }
   ],
   "source": [
    "print(f'Jumlah data yang dihapus dari menghapus outlier adalah: {train_dataset.shape[0] - train_eda.shape[0]}')\n",
    "print(f'Jumlah data yang tersisa : {train_eda.shape[0]}')"
   ]
  },
  {
   "cell_type": "markdown",
   "metadata": {},
   "source": [
    "Jumlah data outlier yang dihapus adalah 45395 data, menyisakan 220185 data. "
   ]
  },
  {
   "cell_type": "code",
   "execution_count": 160,
   "metadata": {},
   "outputs": [
    {
     "data": {
      "image/png": "[encoded data removed]",
      "text/plain": [
       "<Figure size 1080x360 with 2 Axes>"
      ]
     },
     "metadata": {
      "needs_background": "light"
     },
     "output_type": "display_data"
    }
   ],
   "source": [
    "i = 1\n",
    "plt.figure(figsize = (15,5))\n",
    "re_column = ['power','mileage']\n",
    "for column in re_column:\n",
    "    plt.subplot(1,2,i)\n",
    "    plt.tight_layout()\n",
    "    sns.boxplot(train_eda[column], orient = 'h')\n",
    "    plt.title(column)\n",
    "    \n",
    "    i +=1"
   ]
  },
  {
   "cell_type": "code",
   "execution_count": 161,
   "metadata": {},
   "outputs": [],
   "source": [
    "# Mengembalikan data kembali\n",
    "train_dataset = train_eda.copy()"
   ]
  },
  {
   "cell_type": "markdown",
   "metadata": {},
   "source": [
    "## Pelatihan Model"
   ]
  },
  {
   "cell_type": "code",
   "execution_count": 162,
   "metadata": {},
   "outputs": [
    {
     "name": "stdout",
     "output_type": "stream",
     "text": [
      "<class 'pandas.core.frame.DataFrame'>\n",
      "Int64Index: 220185 entries, 126045 to 217680\n",
      "Data columns (total 16 columns):\n",
      " #   Column              Non-Null Count   Dtype         \n",
      "---  ------              --------------   -----         \n",
      " 0   date_crawled        220185 non-null  datetime64[ns]\n",
      " 1   price               220185 non-null  int64         \n",
      " 2   vehicle_type        220185 non-null  object        \n",
      " 3   registration_year   220185 non-null  int64         \n",
      " 4   gearbox             220185 non-null  object        \n",
      " 5   power               220185 non-null  float64       \n",
      " 6   model               220185 non-null  object        \n",
      " 7   mileage             220185 non-null  int64         \n",
      " 8   registration_month  220185 non-null  int64         \n",
      " 9   fuel_type           220185 non-null  object        \n",
      " 10  brand               220185 non-null  object        \n",
      " 11  not_repaired        220185 non-null  object        \n",
      " 12  date_created        220185 non-null  datetime64[ns]\n",
      " 13  number_of_pictures  220185 non-null  int64         \n",
      " 14  postal_code         220185 non-null  int64         \n",
      " 15  last_seen           220185 non-null  datetime64[ns]\n",
      "dtypes: datetime64[ns](3), float64(1), int64(6), object(6)\n",
      "memory usage: 28.6+ MB\n"
     ]
    }
   ],
   "source": [
    "train_dataset.info()"
   ]
  },
  {
   "cell_type": "markdown",
   "metadata": {},
   "source": [
    "Dalam modelling data, fitur dengan nilai yang bukan berupa angka tidak dapat dimengerti maka, fitur dengan nilai tersebut harus diubah terlebih dahulu."
   ]
  },
  {
   "cell_type": "code",
   "execution_count": 163,
   "metadata": {},
   "outputs": [],
   "source": [
    "# Function untuk melakukan label encoding\n",
    "def label_encoder(df_train,columns):\n",
    "    \n",
    "    # Orndinal encoding untuk kolom \n",
    "    le = LabelEncoder()\n",
    "\n",
    "    # # Fit dan transform kolom \n",
    "    a = le.fit_transform(df_train[[columns]])\n",
    "    \n",
    "\n",
    "    return a"
   ]
  },
  {
   "cell_type": "code",
   "execution_count": 164,
   "metadata": {},
   "outputs": [
    {
     "data": {
      "text/html": [
       "<div>\n",
       "<style scoped>\n",
       "    .dataframe tbody tr th:only-of-type {\n",
       "        vertical-align: middle;\n",
       "    }\n",
       "\n",
       "    .dataframe tbody tr th {\n",
       "        vertical-align: top;\n",
       "    }\n",
       "\n",
       "    .dataframe thead th {\n",
       "        text-align: right;\n",
       "    }\n",
       "</style>\n",
       "<table border=\"1\" class=\"dataframe\">\n",
       "  <thead>\n",
       "    <tr style=\"text-align: right;\">\n",
       "      <th></th>\n",
       "      <th>date_crawled</th>\n",
       "      <th>price</th>\n",
       "      <th>vehicle_type</th>\n",
       "      <th>registration_year</th>\n",
       "      <th>gearbox</th>\n",
       "      <th>power</th>\n",
       "      <th>model</th>\n",
       "      <th>mileage</th>\n",
       "      <th>registration_month</th>\n",
       "      <th>fuel_type</th>\n",
       "      <th>brand</th>\n",
       "      <th>not_repaired</th>\n",
       "      <th>date_created</th>\n",
       "      <th>number_of_pictures</th>\n",
       "      <th>postal_code</th>\n",
       "      <th>last_seen</th>\n",
       "    </tr>\n",
       "  </thead>\n",
       "  <tbody>\n",
       "    <tr>\n",
       "      <th>126045</th>\n",
       "      <td>2016-03-27 08:58:00</td>\n",
       "      <td>2599</td>\n",
       "      <td>bus</td>\n",
       "      <td>2005</td>\n",
       "      <td>manual</td>\n",
       "      <td>109.0</td>\n",
       "      <td>c_max</td>\n",
       "      <td>150000</td>\n",
       "      <td>8</td>\n",
       "      <td>gasoline</td>\n",
       "      <td>ford</td>\n",
       "      <td>no</td>\n",
       "      <td>2016-03-27</td>\n",
       "      <td>0</td>\n",
       "      <td>90478</td>\n",
       "      <td>2016-03-27 10:47:00</td>\n",
       "    </tr>\n",
       "    <tr>\n",
       "      <th>67278</th>\n",
       "      <td>2016-03-21 16:59:00</td>\n",
       "      <td>1350</td>\n",
       "      <td>wagon</td>\n",
       "      <td>1997</td>\n",
       "      <td>manual</td>\n",
       "      <td>101.0</td>\n",
       "      <td>passat</td>\n",
       "      <td>150000</td>\n",
       "      <td>12</td>\n",
       "      <td>petrol</td>\n",
       "      <td>volkswagen</td>\n",
       "      <td>no</td>\n",
       "      <td>2016-03-21</td>\n",
       "      <td>0</td>\n",
       "      <td>27753</td>\n",
       "      <td>2016-02-04 17:45:00</td>\n",
       "    </tr>\n",
       "    <tr>\n",
       "      <th>321235</th>\n",
       "      <td>2016-07-03 22:53:00</td>\n",
       "      <td>599</td>\n",
       "      <td>wagon</td>\n",
       "      <td>1997</td>\n",
       "      <td>manual</td>\n",
       "      <td>109.0</td>\n",
       "      <td>4_reihe</td>\n",
       "      <td>150000</td>\n",
       "      <td>8</td>\n",
       "      <td>gasoline</td>\n",
       "      <td>peugeot</td>\n",
       "      <td>no</td>\n",
       "      <td>2016-07-03</td>\n",
       "      <td>0</td>\n",
       "      <td>48599</td>\n",
       "      <td>2016-03-24 19:47:00</td>\n",
       "    </tr>\n",
       "    <tr>\n",
       "      <th>57628</th>\n",
       "      <td>2016-04-04 18:54:00</td>\n",
       "      <td>1200</td>\n",
       "      <td>small</td>\n",
       "      <td>1993</td>\n",
       "      <td>manual</td>\n",
       "      <td>53.0</td>\n",
       "      <td>golf</td>\n",
       "      <td>150000</td>\n",
       "      <td>1</td>\n",
       "      <td>petrol</td>\n",
       "      <td>volkswagen</td>\n",
       "      <td>no</td>\n",
       "      <td>2016-04-04</td>\n",
       "      <td>0</td>\n",
       "      <td>26897</td>\n",
       "      <td>2016-06-04 21:16:00</td>\n",
       "    </tr>\n",
       "    <tr>\n",
       "      <th>273410</th>\n",
       "      <td>2016-03-28 14:47:00</td>\n",
       "      <td>6900</td>\n",
       "      <td>sedan</td>\n",
       "      <td>2006</td>\n",
       "      <td>manual</td>\n",
       "      <td>122.0</td>\n",
       "      <td>3er</td>\n",
       "      <td>150000</td>\n",
       "      <td>0</td>\n",
       "      <td>gasoline</td>\n",
       "      <td>bmw</td>\n",
       "      <td>no</td>\n",
       "      <td>2016-03-28</td>\n",
       "      <td>0</td>\n",
       "      <td>81243</td>\n",
       "      <td>2016-03-30 05:45:00</td>\n",
       "    </tr>\n",
       "  </tbody>\n",
       "</table>\n",
       "</div>"
      ],
      "text/plain": [
       "              date_crawled  price vehicle_type  registration_year gearbox  \\\n",
       "126045 2016-03-27 08:58:00   2599          bus               2005  manual   \n",
       "67278  2016-03-21 16:59:00   1350        wagon               1997  manual   \n",
       "321235 2016-07-03 22:53:00    599        wagon               1997  manual   \n",
       "57628  2016-04-04 18:54:00   1200        small               1993  manual   \n",
       "273410 2016-03-28 14:47:00   6900        sedan               2006  manual   \n",
       "\n",
       "        power    model  mileage  registration_month fuel_type       brand  \\\n",
       "126045  109.0    c_max   150000                   8  gasoline        ford   \n",
       "67278   101.0   passat   150000                  12    petrol  volkswagen   \n",
       "321235  109.0  4_reihe   150000                   8  gasoline     peugeot   \n",
       "57628    53.0     golf   150000                   1    petrol  volkswagen   \n",
       "273410  122.0      3er   150000                   0  gasoline         bmw   \n",
       "\n",
       "       not_repaired date_created  number_of_pictures  postal_code  \\\n",
       "126045           no   2016-03-27                   0        90478   \n",
       "67278            no   2016-03-21                   0        27753   \n",
       "321235           no   2016-07-03                   0        48599   \n",
       "57628            no   2016-04-04                   0        26897   \n",
       "273410           no   2016-03-28                   0        81243   \n",
       "\n",
       "                 last_seen  \n",
       "126045 2016-03-27 10:47:00  \n",
       "67278  2016-02-04 17:45:00  \n",
       "321235 2016-03-24 19:47:00  \n",
       "57628  2016-06-04 21:16:00  \n",
       "273410 2016-03-30 05:45:00  "
      ]
     },
     "execution_count": 164,
     "metadata": {},
     "output_type": "execute_result"
    }
   ],
   "source": [
    "train_dataset.head()"
   ]
  },
  {
   "cell_type": "code",
   "execution_count": 165,
   "metadata": {},
   "outputs": [],
   "source": [
    "# Label encoding untuk kolom-kolom yang membutuhkannya\n",
    "train_dataset['vehicle_type'] = label_encoder(train_dataset, columns = 'vehicle_type')\n",
    "\n",
    "train_dataset['gearbox'] = label_encoder(train_dataset, columns = 'gearbox')\n",
    "\n",
    "train_dataset['fuel_type'] = label_encoder(train_dataset, columns = 'fuel_type')\n",
    "\n",
    "train_dataset['not_repaired'] = label_encoder(train_dataset, columns = 'not_repaired')\n",
    "\n",
    "train_dataset['brand'] = label_encoder(train_dataset, columns = 'brand')"
   ]
  },
  {
   "cell_type": "code",
   "execution_count": 166,
   "metadata": {},
   "outputs": [
    {
     "data": {
      "text/html": [
       "<div>\n",
       "<style scoped>\n",
       "    .dataframe tbody tr th:only-of-type {\n",
       "        vertical-align: middle;\n",
       "    }\n",
       "\n",
       "    .dataframe tbody tr th {\n",
       "        vertical-align: top;\n",
       "    }\n",
       "\n",
       "    .dataframe thead th {\n",
       "        text-align: right;\n",
       "    }\n",
       "</style>\n",
       "<table border=\"1\" class=\"dataframe\">\n",
       "  <thead>\n",
       "    <tr style=\"text-align: right;\">\n",
       "      <th></th>\n",
       "      <th>date_crawled</th>\n",
       "      <th>price</th>\n",
       "      <th>vehicle_type</th>\n",
       "      <th>registration_year</th>\n",
       "      <th>gearbox</th>\n",
       "      <th>power</th>\n",
       "      <th>model</th>\n",
       "      <th>mileage</th>\n",
       "      <th>registration_month</th>\n",
       "      <th>fuel_type</th>\n",
       "      <th>brand</th>\n",
       "      <th>not_repaired</th>\n",
       "      <th>date_created</th>\n",
       "      <th>number_of_pictures</th>\n",
       "      <th>postal_code</th>\n",
       "      <th>last_seen</th>\n",
       "    </tr>\n",
       "  </thead>\n",
       "  <tbody>\n",
       "    <tr>\n",
       "      <th>126045</th>\n",
       "      <td>2016-03-27 08:58:00</td>\n",
       "      <td>2599</td>\n",
       "      <td>0</td>\n",
       "      <td>2005</td>\n",
       "      <td>1</td>\n",
       "      <td>109.0</td>\n",
       "      <td>c_max</td>\n",
       "      <td>150000</td>\n",
       "      <td>8</td>\n",
       "      <td>2</td>\n",
       "      <td>10</td>\n",
       "      <td>0</td>\n",
       "      <td>2016-03-27</td>\n",
       "      <td>0</td>\n",
       "      <td>90478</td>\n",
       "      <td>2016-03-27 10:47:00</td>\n",
       "    </tr>\n",
       "    <tr>\n",
       "      <th>67278</th>\n",
       "      <td>2016-03-21 16:59:00</td>\n",
       "      <td>1350</td>\n",
       "      <td>7</td>\n",
       "      <td>1997</td>\n",
       "      <td>1</td>\n",
       "      <td>101.0</td>\n",
       "      <td>passat</td>\n",
       "      <td>150000</td>\n",
       "      <td>12</td>\n",
       "      <td>6</td>\n",
       "      <td>38</td>\n",
       "      <td>0</td>\n",
       "      <td>2016-03-21</td>\n",
       "      <td>0</td>\n",
       "      <td>27753</td>\n",
       "      <td>2016-02-04 17:45:00</td>\n",
       "    </tr>\n",
       "    <tr>\n",
       "      <th>321235</th>\n",
       "      <td>2016-07-03 22:53:00</td>\n",
       "      <td>599</td>\n",
       "      <td>7</td>\n",
       "      <td>1997</td>\n",
       "      <td>1</td>\n",
       "      <td>109.0</td>\n",
       "      <td>4_reihe</td>\n",
       "      <td>150000</td>\n",
       "      <td>8</td>\n",
       "      <td>2</td>\n",
       "      <td>25</td>\n",
       "      <td>0</td>\n",
       "      <td>2016-07-03</td>\n",
       "      <td>0</td>\n",
       "      <td>48599</td>\n",
       "      <td>2016-03-24 19:47:00</td>\n",
       "    </tr>\n",
       "    <tr>\n",
       "      <th>57628</th>\n",
       "      <td>2016-04-04 18:54:00</td>\n",
       "      <td>1200</td>\n",
       "      <td>5</td>\n",
       "      <td>1993</td>\n",
       "      <td>1</td>\n",
       "      <td>53.0</td>\n",
       "      <td>golf</td>\n",
       "      <td>150000</td>\n",
       "      <td>1</td>\n",
       "      <td>6</td>\n",
       "      <td>38</td>\n",
       "      <td>0</td>\n",
       "      <td>2016-04-04</td>\n",
       "      <td>0</td>\n",
       "      <td>26897</td>\n",
       "      <td>2016-06-04 21:16:00</td>\n",
       "    </tr>\n",
       "    <tr>\n",
       "      <th>273410</th>\n",
       "      <td>2016-03-28 14:47:00</td>\n",
       "      <td>6900</td>\n",
       "      <td>4</td>\n",
       "      <td>2006</td>\n",
       "      <td>1</td>\n",
       "      <td>122.0</td>\n",
       "      <td>3er</td>\n",
       "      <td>150000</td>\n",
       "      <td>0</td>\n",
       "      <td>2</td>\n",
       "      <td>2</td>\n",
       "      <td>0</td>\n",
       "      <td>2016-03-28</td>\n",
       "      <td>0</td>\n",
       "      <td>81243</td>\n",
       "      <td>2016-03-30 05:45:00</td>\n",
       "    </tr>\n",
       "  </tbody>\n",
       "</table>\n",
       "</div>"
      ],
      "text/plain": [
       "              date_crawled  price  vehicle_type  registration_year  gearbox  \\\n",
       "126045 2016-03-27 08:58:00   2599             0               2005        1   \n",
       "67278  2016-03-21 16:59:00   1350             7               1997        1   \n",
       "321235 2016-07-03 22:53:00    599             7               1997        1   \n",
       "57628  2016-04-04 18:54:00   1200             5               1993        1   \n",
       "273410 2016-03-28 14:47:00   6900             4               2006        1   \n",
       "\n",
       "        power    model  mileage  registration_month  fuel_type  brand  \\\n",
       "126045  109.0    c_max   150000                   8          2     10   \n",
       "67278   101.0   passat   150000                  12          6     38   \n",
       "321235  109.0  4_reihe   150000                   8          2     25   \n",
       "57628    53.0     golf   150000                   1          6     38   \n",
       "273410  122.0      3er   150000                   0          2      2   \n",
       "\n",
       "        not_repaired date_created  number_of_pictures  postal_code  \\\n",
       "126045             0   2016-03-27                   0        90478   \n",
       "67278              0   2016-03-21                   0        27753   \n",
       "321235             0   2016-07-03                   0        48599   \n",
       "57628              0   2016-04-04                   0        26897   \n",
       "273410             0   2016-03-28                   0        81243   \n",
       "\n",
       "                 last_seen  \n",
       "126045 2016-03-27 10:47:00  \n",
       "67278  2016-02-04 17:45:00  \n",
       "321235 2016-03-24 19:47:00  \n",
       "57628  2016-06-04 21:16:00  \n",
       "273410 2016-03-30 05:45:00  "
      ]
     },
     "execution_count": 166,
     "metadata": {},
     "output_type": "execute_result"
    }
   ],
   "source": [
    "train_dataset.head()"
   ]
  },
  {
   "cell_type": "markdown",
   "metadata": {},
   "source": [
    "Dalam modeling ini, kolom-kolom tanggal dan waktu tidak diperlukan, maka kolom-kolom tersebut akan dihapus untuk modelling. Hal personal seperti kode postal juga tidak diperlukan beserta dengan jumlah gambar kendaraan tidak akan mempengaruhi target. Kolom model memiliki nilai unik yang terlalu banyak untuk label encoding dalam modelling, maka dari itu, fitur tesebut juga akan dihapus."
   ]
  },
  {
   "cell_type": "code",
   "execution_count": 167,
   "metadata": {},
   "outputs": [
    {
     "data": {
      "text/html": [
       "<div>\n",
       "<style scoped>\n",
       "    .dataframe tbody tr th:only-of-type {\n",
       "        vertical-align: middle;\n",
       "    }\n",
       "\n",
       "    .dataframe tbody tr th {\n",
       "        vertical-align: top;\n",
       "    }\n",
       "\n",
       "    .dataframe thead th {\n",
       "        text-align: right;\n",
       "    }\n",
       "</style>\n",
       "<table border=\"1\" class=\"dataframe\">\n",
       "  <thead>\n",
       "    <tr style=\"text-align: right;\">\n",
       "      <th></th>\n",
       "      <th>price</th>\n",
       "      <th>vehicle_type</th>\n",
       "      <th>registration_year</th>\n",
       "      <th>gearbox</th>\n",
       "      <th>power</th>\n",
       "      <th>mileage</th>\n",
       "      <th>registration_month</th>\n",
       "      <th>fuel_type</th>\n",
       "      <th>brand</th>\n",
       "      <th>not_repaired</th>\n",
       "    </tr>\n",
       "  </thead>\n",
       "  <tbody>\n",
       "    <tr>\n",
       "      <th>126045</th>\n",
       "      <td>2599</td>\n",
       "      <td>0</td>\n",
       "      <td>2005</td>\n",
       "      <td>1</td>\n",
       "      <td>109.0</td>\n",
       "      <td>150000</td>\n",
       "      <td>8</td>\n",
       "      <td>2</td>\n",
       "      <td>10</td>\n",
       "      <td>0</td>\n",
       "    </tr>\n",
       "    <tr>\n",
       "      <th>67278</th>\n",
       "      <td>1350</td>\n",
       "      <td>7</td>\n",
       "      <td>1997</td>\n",
       "      <td>1</td>\n",
       "      <td>101.0</td>\n",
       "      <td>150000</td>\n",
       "      <td>12</td>\n",
       "      <td>6</td>\n",
       "      <td>38</td>\n",
       "      <td>0</td>\n",
       "    </tr>\n",
       "    <tr>\n",
       "      <th>321235</th>\n",
       "      <td>599</td>\n",
       "      <td>7</td>\n",
       "      <td>1997</td>\n",
       "      <td>1</td>\n",
       "      <td>109.0</td>\n",
       "      <td>150000</td>\n",
       "      <td>8</td>\n",
       "      <td>2</td>\n",
       "      <td>25</td>\n",
       "      <td>0</td>\n",
       "    </tr>\n",
       "    <tr>\n",
       "      <th>57628</th>\n",
       "      <td>1200</td>\n",
       "      <td>5</td>\n",
       "      <td>1993</td>\n",
       "      <td>1</td>\n",
       "      <td>53.0</td>\n",
       "      <td>150000</td>\n",
       "      <td>1</td>\n",
       "      <td>6</td>\n",
       "      <td>38</td>\n",
       "      <td>0</td>\n",
       "    </tr>\n",
       "    <tr>\n",
       "      <th>273410</th>\n",
       "      <td>6900</td>\n",
       "      <td>4</td>\n",
       "      <td>2006</td>\n",
       "      <td>1</td>\n",
       "      <td>122.0</td>\n",
       "      <td>150000</td>\n",
       "      <td>0</td>\n",
       "      <td>2</td>\n",
       "      <td>2</td>\n",
       "      <td>0</td>\n",
       "    </tr>\n",
       "  </tbody>\n",
       "</table>\n",
       "</div>"
      ],
      "text/plain": [
       "        price  vehicle_type  registration_year  gearbox  power  mileage  \\\n",
       "126045   2599             0               2005        1  109.0   150000   \n",
       "67278    1350             7               1997        1  101.0   150000   \n",
       "321235    599             7               1997        1  109.0   150000   \n",
       "57628    1200             5               1993        1   53.0   150000   \n",
       "273410   6900             4               2006        1  122.0   150000   \n",
       "\n",
       "        registration_month  fuel_type  brand  not_repaired  \n",
       "126045                   8          2     10             0  \n",
       "67278                   12          6     38             0  \n",
       "321235                   8          2     25             0  \n",
       "57628                    1          6     38             0  \n",
       "273410                   0          2      2             0  "
      ]
     },
     "execution_count": 167,
     "metadata": {},
     "output_type": "execute_result"
    }
   ],
   "source": [
    "train_dataset =  train_dataset.drop(['date_crawled','date_created','last_seen','number_of_pictures','postal_code', 'model'], axis = 1)\n",
    "train_dataset.head()"
   ]
  },
  {
   "cell_type": "markdown",
   "metadata": {},
   "source": [
    "Dengan menghapus data-data yang tidak diperlukan dan mengubah fitur-fitur dengan nilai string diubah menjadi nilai numerical, train dataset akan dipisah menjadi X_train dan y_train."
   ]
  },
  {
   "cell_type": "code",
   "execution_count": 168,
   "metadata": {},
   "outputs": [],
   "source": [
    "X_train = train_dataset.drop(['price'], axis = 1)\n",
    "y_train = train_dataset['price']"
   ]
  },
  {
   "cell_type": "code",
   "execution_count": 169,
   "metadata": {},
   "outputs": [
    {
     "data": {
      "text/html": [
       "<div>\n",
       "<style scoped>\n",
       "    .dataframe tbody tr th:only-of-type {\n",
       "        vertical-align: middle;\n",
       "    }\n",
       "\n",
       "    .dataframe tbody tr th {\n",
       "        vertical-align: top;\n",
       "    }\n",
       "\n",
       "    .dataframe thead th {\n",
       "        text-align: right;\n",
       "    }\n",
       "</style>\n",
       "<table border=\"1\" class=\"dataframe\">\n",
       "  <thead>\n",
       "    <tr style=\"text-align: right;\">\n",
       "      <th></th>\n",
       "      <th>vehicle_type</th>\n",
       "      <th>registration_year</th>\n",
       "      <th>gearbox</th>\n",
       "      <th>power</th>\n",
       "      <th>mileage</th>\n",
       "      <th>registration_month</th>\n",
       "      <th>fuel_type</th>\n",
       "      <th>brand</th>\n",
       "      <th>not_repaired</th>\n",
       "    </tr>\n",
       "  </thead>\n",
       "  <tbody>\n",
       "    <tr>\n",
       "      <th>126045</th>\n",
       "      <td>0</td>\n",
       "      <td>2005</td>\n",
       "      <td>1</td>\n",
       "      <td>109.0</td>\n",
       "      <td>150000</td>\n",
       "      <td>8</td>\n",
       "      <td>2</td>\n",
       "      <td>10</td>\n",
       "      <td>0</td>\n",
       "    </tr>\n",
       "    <tr>\n",
       "      <th>67278</th>\n",
       "      <td>7</td>\n",
       "      <td>1997</td>\n",
       "      <td>1</td>\n",
       "      <td>101.0</td>\n",
       "      <td>150000</td>\n",
       "      <td>12</td>\n",
       "      <td>6</td>\n",
       "      <td>38</td>\n",
       "      <td>0</td>\n",
       "    </tr>\n",
       "    <tr>\n",
       "      <th>321235</th>\n",
       "      <td>7</td>\n",
       "      <td>1997</td>\n",
       "      <td>1</td>\n",
       "      <td>109.0</td>\n",
       "      <td>150000</td>\n",
       "      <td>8</td>\n",
       "      <td>2</td>\n",
       "      <td>25</td>\n",
       "      <td>0</td>\n",
       "    </tr>\n",
       "    <tr>\n",
       "      <th>57628</th>\n",
       "      <td>5</td>\n",
       "      <td>1993</td>\n",
       "      <td>1</td>\n",
       "      <td>53.0</td>\n",
       "      <td>150000</td>\n",
       "      <td>1</td>\n",
       "      <td>6</td>\n",
       "      <td>38</td>\n",
       "      <td>0</td>\n",
       "    </tr>\n",
       "    <tr>\n",
       "      <th>273410</th>\n",
       "      <td>4</td>\n",
       "      <td>2006</td>\n",
       "      <td>1</td>\n",
       "      <td>122.0</td>\n",
       "      <td>150000</td>\n",
       "      <td>0</td>\n",
       "      <td>2</td>\n",
       "      <td>2</td>\n",
       "      <td>0</td>\n",
       "    </tr>\n",
       "  </tbody>\n",
       "</table>\n",
       "</div>"
      ],
      "text/plain": [
       "        vehicle_type  registration_year  gearbox  power  mileage  \\\n",
       "126045             0               2005        1  109.0   150000   \n",
       "67278              7               1997        1  101.0   150000   \n",
       "321235             7               1997        1  109.0   150000   \n",
       "57628              5               1993        1   53.0   150000   \n",
       "273410             4               2006        1  122.0   150000   \n",
       "\n",
       "        registration_month  fuel_type  brand  not_repaired  \n",
       "126045                   8          2     10             0  \n",
       "67278                   12          6     38             0  \n",
       "321235                   8          2     25             0  \n",
       "57628                    1          6     38             0  \n",
       "273410                   0          2      2             0  "
      ]
     },
     "execution_count": 169,
     "metadata": {},
     "output_type": "execute_result"
    }
   ],
   "source": [
    "X_train.head()"
   ]
  },
  {
   "cell_type": "markdown",
   "metadata": {},
   "source": [
    "Sebelum modelling dilakukan, ada perlunya dataset distandarisasi terlebih dahulu agar kolom dengan nilai besar tidak mempengaruhi hasil modelling."
   ]
  },
  {
   "cell_type": "code",
   "execution_count": 170,
   "metadata": {},
   "outputs": [
    {
     "data": {
      "text/html": [
       "<div>\n",
       "<style scoped>\n",
       "    .dataframe tbody tr th:only-of-type {\n",
       "        vertical-align: middle;\n",
       "    }\n",
       "\n",
       "    .dataframe tbody tr th {\n",
       "        vertical-align: top;\n",
       "    }\n",
       "\n",
       "    .dataframe thead th {\n",
       "        text-align: right;\n",
       "    }\n",
       "</style>\n",
       "<table border=\"1\" class=\"dataframe\">\n",
       "  <thead>\n",
       "    <tr style=\"text-align: right;\">\n",
       "      <th></th>\n",
       "      <th>vehicle_type</th>\n",
       "      <th>registration_year</th>\n",
       "      <th>gearbox</th>\n",
       "      <th>power</th>\n",
       "      <th>mileage</th>\n",
       "      <th>registration_month</th>\n",
       "      <th>fuel_type</th>\n",
       "      <th>brand</th>\n",
       "      <th>not_repaired</th>\n",
       "    </tr>\n",
       "  </thead>\n",
       "  <tbody>\n",
       "    <tr>\n",
       "      <th>0</th>\n",
       "      <td>-2.027353</td>\n",
       "      <td>0.147359</td>\n",
       "      <td>0.2652</td>\n",
       "      <td>-0.129140</td>\n",
       "      <td>0.468709</td>\n",
       "      <td>0.614244</td>\n",
       "      <td>-1.469137</td>\n",
       "      <td>-0.812310</td>\n",
       "      <td>-0.629275</td>\n",
       "    </tr>\n",
       "    <tr>\n",
       "      <th>1</th>\n",
       "      <td>1.372292</td>\n",
       "      <td>-0.340020</td>\n",
       "      <td>0.2652</td>\n",
       "      <td>-0.308984</td>\n",
       "      <td>0.468709</td>\n",
       "      <td>1.684295</td>\n",
       "      <td>0.748140</td>\n",
       "      <td>1.276829</td>\n",
       "      <td>-0.629275</td>\n",
       "    </tr>\n",
       "    <tr>\n",
       "      <th>2</th>\n",
       "      <td>1.372292</td>\n",
       "      <td>-0.340020</td>\n",
       "      <td>0.2652</td>\n",
       "      <td>-0.129140</td>\n",
       "      <td>0.468709</td>\n",
       "      <td>0.614244</td>\n",
       "      <td>-1.469137</td>\n",
       "      <td>0.306872</td>\n",
       "      <td>-0.629275</td>\n",
       "    </tr>\n",
       "    <tr>\n",
       "      <th>3</th>\n",
       "      <td>0.400964</td>\n",
       "      <td>-0.583710</td>\n",
       "      <td>0.2652</td>\n",
       "      <td>-1.388053</td>\n",
       "      <td>0.468709</td>\n",
       "      <td>-1.258344</td>\n",
       "      <td>0.748140</td>\n",
       "      <td>1.276829</td>\n",
       "      <td>-0.629275</td>\n",
       "    </tr>\n",
       "    <tr>\n",
       "      <th>4</th>\n",
       "      <td>-0.084699</td>\n",
       "      <td>0.208281</td>\n",
       "      <td>0.2652</td>\n",
       "      <td>0.163108</td>\n",
       "      <td>0.468709</td>\n",
       "      <td>-1.525856</td>\n",
       "      <td>-1.469137</td>\n",
       "      <td>-1.409207</td>\n",
       "      <td>-0.629275</td>\n",
       "    </tr>\n",
       "  </tbody>\n",
       "</table>\n",
       "</div>"
      ],
      "text/plain": [
       "   vehicle_type  registration_year  gearbox     power   mileage  \\\n",
       "0     -2.027353           0.147359   0.2652 -0.129140  0.468709   \n",
       "1      1.372292          -0.340020   0.2652 -0.308984  0.468709   \n",
       "2      1.372292          -0.340020   0.2652 -0.129140  0.468709   \n",
       "3      0.400964          -0.583710   0.2652 -1.388053  0.468709   \n",
       "4     -0.084699           0.208281   0.2652  0.163108  0.468709   \n",
       "\n",
       "   registration_month  fuel_type     brand  not_repaired  \n",
       "0            0.614244  -1.469137 -0.812310     -0.629275  \n",
       "1            1.684295   0.748140  1.276829     -0.629275  \n",
       "2            0.614244  -1.469137  0.306872     -0.629275  \n",
       "3           -1.258344   0.748140  1.276829     -0.629275  \n",
       "4           -1.525856  -1.469137 -1.409207     -0.629275  "
      ]
     },
     "execution_count": 170,
     "metadata": {},
     "output_type": "execute_result"
    }
   ],
   "source": [
    "# Scaling data train\n",
    "s_scaler = StandardScaler()\n",
    "s_scaler.fit(X_train)\n",
    "\n",
    "X_train = pd.DataFrame(s_scaler.transform(X_train), columns = X_train.columns)\n",
    "X_train.head()"
   ]
  },
  {
   "cell_type": "code",
   "execution_count": 171,
   "metadata": {},
   "outputs": [
    {
     "data": {
      "text/html": [
       "<div>\n",
       "<style scoped>\n",
       "    .dataframe tbody tr th:only-of-type {\n",
       "        vertical-align: middle;\n",
       "    }\n",
       "\n",
       "    .dataframe tbody tr th {\n",
       "        vertical-align: top;\n",
       "    }\n",
       "\n",
       "    .dataframe thead th {\n",
       "        text-align: right;\n",
       "    }\n",
       "</style>\n",
       "<table border=\"1\" class=\"dataframe\">\n",
       "  <thead>\n",
       "    <tr style=\"text-align: right;\">\n",
       "      <th></th>\n",
       "      <th>price</th>\n",
       "      <th>vehicle_type</th>\n",
       "      <th>registration_year</th>\n",
       "      <th>gearbox</th>\n",
       "      <th>power</th>\n",
       "      <th>mileage</th>\n",
       "      <th>registration_month</th>\n",
       "      <th>fuel_type</th>\n",
       "      <th>brand</th>\n",
       "      <th>not_repaired</th>\n",
       "    </tr>\n",
       "  </thead>\n",
       "  <tbody>\n",
       "    <tr>\n",
       "      <th>202414</th>\n",
       "      <td>15000</td>\n",
       "      <td>other</td>\n",
       "      <td>2005</td>\n",
       "      <td>manual</td>\n",
       "      <td>250</td>\n",
       "      <td>150000</td>\n",
       "      <td>0</td>\n",
       "      <td>petrol</td>\n",
       "      <td>volkswagen</td>\n",
       "      <td>no</td>\n",
       "    </tr>\n",
       "    <tr>\n",
       "      <th>23621</th>\n",
       "      <td>2590</td>\n",
       "      <td>convertible</td>\n",
       "      <td>1998</td>\n",
       "      <td>manual</td>\n",
       "      <td>131</td>\n",
       "      <td>125000</td>\n",
       "      <td>6</td>\n",
       "      <td>petrol</td>\n",
       "      <td>fiat</td>\n",
       "      <td>no</td>\n",
       "    </tr>\n",
       "    <tr>\n",
       "      <th>302451</th>\n",
       "      <td>949</td>\n",
       "      <td>small</td>\n",
       "      <td>1998</td>\n",
       "      <td>manual</td>\n",
       "      <td>60</td>\n",
       "      <td>150000</td>\n",
       "      <td>5</td>\n",
       "      <td>petrol</td>\n",
       "      <td>volkswagen</td>\n",
       "      <td>no</td>\n",
       "    </tr>\n",
       "    <tr>\n",
       "      <th>211629</th>\n",
       "      <td>950</td>\n",
       "      <td>other</td>\n",
       "      <td>2017</td>\n",
       "      <td>manual</td>\n",
       "      <td>58</td>\n",
       "      <td>150000</td>\n",
       "      <td>6</td>\n",
       "      <td>petrol</td>\n",
       "      <td>renault</td>\n",
       "      <td>unknown</td>\n",
       "    </tr>\n",
       "    <tr>\n",
       "      <th>26802</th>\n",
       "      <td>6590</td>\n",
       "      <td>bus</td>\n",
       "      <td>2004</td>\n",
       "      <td>manual</td>\n",
       "      <td>140</td>\n",
       "      <td>150000</td>\n",
       "      <td>9</td>\n",
       "      <td>gasoline</td>\n",
       "      <td>volkswagen</td>\n",
       "      <td>no</td>\n",
       "    </tr>\n",
       "  </tbody>\n",
       "</table>\n",
       "</div>"
      ],
      "text/plain": [
       "        price vehicle_type  registration_year gearbox  power  mileage  \\\n",
       "202414  15000        other               2005  manual    250   150000   \n",
       "23621    2590  convertible               1998  manual    131   125000   \n",
       "302451    949        small               1998  manual     60   150000   \n",
       "211629    950        other               2017  manual     58   150000   \n",
       "26802    6590          bus               2004  manual    140   150000   \n",
       "\n",
       "        registration_month fuel_type       brand not_repaired  \n",
       "202414                   0    petrol  volkswagen           no  \n",
       "23621                    6    petrol        fiat           no  \n",
       "302451                   5    petrol  volkswagen           no  \n",
       "211629                   6    petrol     renault      unknown  \n",
       "26802                    9  gasoline  volkswagen           no  "
      ]
     },
     "execution_count": 171,
     "metadata": {},
     "output_type": "execute_result"
    }
   ],
   "source": [
    "test_dataset =  test_dataset.drop(['date_crawled','date_created','last_seen','number_of_pictures','postal_code', 'model'], axis = 1)\n",
    "test_dataset.head()"
   ]
  },
  {
   "cell_type": "code",
   "execution_count": 172,
   "metadata": {},
   "outputs": [],
   "source": [
    "# Label encoding untuk kolom-kolom yang membutuhkannya\n",
    "test_dataset['vehicle_type'] = label_encoder(test_dataset, columns = 'vehicle_type')\n",
    "\n",
    "test_dataset['gearbox'] = label_encoder(test_dataset, columns = 'gearbox')\n",
    "\n",
    "test_dataset['fuel_type'] = label_encoder(test_dataset, columns = 'fuel_type')\n",
    "\n",
    "test_dataset['not_repaired'] = label_encoder(test_dataset, columns = 'not_repaired')\n",
    "\n",
    "test_dataset['brand'] = label_encoder(test_dataset, columns = 'brand')"
   ]
  },
  {
   "cell_type": "code",
   "execution_count": 173,
   "metadata": {},
   "outputs": [],
   "source": [
    "X_test = test_dataset.drop('price', axis = 1)\n",
    "y_test = test_dataset['price']"
   ]
  },
  {
   "cell_type": "code",
   "execution_count": 174,
   "metadata": {},
   "outputs": [
    {
     "data": {
      "text/html": [
       "<div>\n",
       "<style scoped>\n",
       "    .dataframe tbody tr th:only-of-type {\n",
       "        vertical-align: middle;\n",
       "    }\n",
       "\n",
       "    .dataframe tbody tr th {\n",
       "        vertical-align: top;\n",
       "    }\n",
       "\n",
       "    .dataframe thead th {\n",
       "        text-align: right;\n",
       "    }\n",
       "</style>\n",
       "<table border=\"1\" class=\"dataframe\">\n",
       "  <thead>\n",
       "    <tr style=\"text-align: right;\">\n",
       "      <th></th>\n",
       "      <th>vehicle_type</th>\n",
       "      <th>registration_year</th>\n",
       "      <th>gearbox</th>\n",
       "      <th>power</th>\n",
       "      <th>mileage</th>\n",
       "      <th>registration_month</th>\n",
       "      <th>fuel_type</th>\n",
       "      <th>brand</th>\n",
       "      <th>not_repaired</th>\n",
       "    </tr>\n",
       "  </thead>\n",
       "  <tbody>\n",
       "    <tr>\n",
       "      <th>0</th>\n",
       "      <td>-0.565147</td>\n",
       "      <td>0.006951</td>\n",
       "      <td>0.277079</td>\n",
       "      <td>0.645767</td>\n",
       "      <td>0.576681</td>\n",
       "      <td>-1.534925</td>\n",
       "      <td>0.706169</td>\n",
       "      <td>1.293074</td>\n",
       "      <td>-0.605393</td>\n",
       "    </tr>\n",
       "    <tr>\n",
       "      <th>1</th>\n",
       "      <td>-1.555611</td>\n",
       "      <td>-0.065845</td>\n",
       "      <td>0.277079</td>\n",
       "      <td>0.095277</td>\n",
       "      <td>-0.079522</td>\n",
       "      <td>0.075723</td>\n",
       "      <td>0.706169</td>\n",
       "      <td>-0.891868</td>\n",
       "      <td>-0.605393</td>\n",
       "    </tr>\n",
       "    <tr>\n",
       "      <th>2</th>\n",
       "      <td>0.425316</td>\n",
       "      <td>-0.065845</td>\n",
       "      <td>0.277079</td>\n",
       "      <td>-0.233167</td>\n",
       "      <td>0.576681</td>\n",
       "      <td>-0.192718</td>\n",
       "      <td>0.706169</td>\n",
       "      <td>1.293074</td>\n",
       "      <td>-0.605393</td>\n",
       "    </tr>\n",
       "    <tr>\n",
       "      <th>3</th>\n",
       "      <td>-0.565147</td>\n",
       "      <td>0.131745</td>\n",
       "      <td>0.277079</td>\n",
       "      <td>-0.242419</td>\n",
       "      <td>0.576681</td>\n",
       "      <td>0.075723</td>\n",
       "      <td>0.706169</td>\n",
       "      <td>0.464303</td>\n",
       "      <td>0.895744</td>\n",
       "    </tr>\n",
       "    <tr>\n",
       "      <th>4</th>\n",
       "      <td>-2.050843</td>\n",
       "      <td>-0.003449</td>\n",
       "      <td>0.277079</td>\n",
       "      <td>0.136910</td>\n",
       "      <td>0.576681</td>\n",
       "      <td>0.881047</td>\n",
       "      <td>-1.562566</td>\n",
       "      <td>1.293074</td>\n",
       "      <td>-0.605393</td>\n",
       "    </tr>\n",
       "  </tbody>\n",
       "</table>\n",
       "</div>"
      ],
      "text/plain": [
       "   vehicle_type  registration_year   gearbox     power   mileage  \\\n",
       "0     -0.565147           0.006951  0.277079  0.645767  0.576681   \n",
       "1     -1.555611          -0.065845  0.277079  0.095277 -0.079522   \n",
       "2      0.425316          -0.065845  0.277079 -0.233167  0.576681   \n",
       "3     -0.565147           0.131745  0.277079 -0.242419  0.576681   \n",
       "4     -2.050843          -0.003449  0.277079  0.136910  0.576681   \n",
       "\n",
       "   registration_month  fuel_type     brand  not_repaired  \n",
       "0           -1.534925   0.706169  1.293074     -0.605393  \n",
       "1            0.075723   0.706169 -0.891868     -0.605393  \n",
       "2           -0.192718   0.706169  1.293074     -0.605393  \n",
       "3            0.075723   0.706169  0.464303      0.895744  \n",
       "4            0.881047  -1.562566  1.293074     -0.605393  "
      ]
     },
     "execution_count": 174,
     "metadata": {},
     "output_type": "execute_result"
    }
   ],
   "source": [
    "# Scaling data test\n",
    "s_scaler.fit(X_test)\n",
    "\n",
    "X_test = pd.DataFrame(s_scaler.transform(X_test), columns = X_test.columns)\n",
    "X_test.head()"
   ]
  },
  {
   "cell_type": "markdown",
   "metadata": {},
   "source": [
    "### Linear Regresssion"
   ]
  },
  {
   "cell_type": "code",
   "execution_count": 175,
   "metadata": {},
   "outputs": [
    {
     "data": {
      "text/plain": [
       "LinearRegression()"
      ]
     },
     "execution_count": 175,
     "metadata": {},
     "output_type": "execute_result"
    }
   ],
   "source": [
    "# Model regressi linear\n",
    "lir = LinearRegression()\n",
    "lir.fit(X_train, y_train)"
   ]
  },
  {
   "cell_type": "code",
   "execution_count": 176,
   "metadata": {
    "scrolled": true
   },
   "outputs": [
    {
     "name": "stdout",
     "output_type": "stream",
     "text": [
      "MAE: 2567.2 $\n",
      "RMSE: 4101.93 $\n",
      "Elapsed CPU time for Linear Regression: 0.016161058000022877 seconds\n"
     ]
    }
   ],
   "source": [
    "# Record start time\n",
    "start_time = time.process_time()\n",
    "\n",
    "# RMSE linear regression\n",
    "y_pred_lir = lir.predict(X_test)\n",
    "mae_lir = round(mean_absolute_error(y_test, y_pred_lir), 2)\n",
    "rmse_lir = round(math.sqrt(mean_squared_error(y_test, y_pred_lir)), 2)\n",
    "\n",
    "print('MAE:', mae_lir, '$')\n",
    "print('RMSE:', rmse_lir, '$')\n",
    "\n",
    "# Record end time\n",
    "end_time = time.process_time()\n",
    "\n",
    "# Calculate elapsed CPU time\n",
    "elapsed_time_lir = end_time - start_time\n",
    "print(f\"Elapsed CPU time for Linear Regression: {elapsed_time_lir} seconds\")"
   ]
  },
  {
   "cell_type": "markdown",
   "metadata": {},
   "source": [
    "Dari hasil prediksi, ditemukan RMSE untuk linear regression sebesar 4101.93 dollar yang menunjukan terdapat perbedaan hasil prediksi sebesar +/- 4101.93 dollar. Waktu modelling adalah 0.016 detik."
   ]
  },
  {
   "cell_type": "markdown",
   "metadata": {},
   "source": [
    "### Random Forest Regressor"
   ]
  },
  {
   "cell_type": "code",
   "execution_count": 177,
   "metadata": {},
   "outputs": [
    {
     "name": "stdout",
     "output_type": "stream",
     "text": [
      "Elapsed CPU time for Random Forest: 88.15140237300005 seconds\n"
     ]
    }
   ],
   "source": [
    "# Record start time\n",
    "start_time = time.process_time()\n",
    "\n",
    "rf = RandomForestRegressor(n_estimators= 150,\n",
    "    max_depth = 20,\n",
    "    min_samples_split=10\n",
    ")\n",
    "\n",
    "rf.fit(X_train, y_train)\n",
    "\n",
    "# Record end time\n",
    "end_time = time.process_time()\n",
    "\n",
    "# Calculate elapsed CPU time\n",
    "elapsed_time_rf = end_time - start_time\n",
    "print(f\"Elapsed CPU time for Random Forest: {elapsed_time_rf} seconds\")"
   ]
  },
  {
   "cell_type": "code",
   "execution_count": 178,
   "metadata": {},
   "outputs": [
    {
     "name": "stdout",
     "output_type": "stream",
     "text": [
      "MAE: 2675.4 $\n",
      "RMSE: 4085.83 $\n"
     ]
    }
   ],
   "source": [
    "y_pred_rf = rf.predict(X_test)\n",
    "mae_rf = round(mean_absolute_error(y_test, y_pred_rf), 2)\n",
    "rmse_rf = round(math.sqrt(mean_squared_error(y_test, y_pred_rf)), 2)\n",
    "\n",
    "print('MAE:', mae_rf, '$')\n",
    "print('RMSE:', rmse_rf, '$')\n"
   ]
  },
  {
   "cell_type": "markdown",
   "metadata": {},
   "source": [
    "Dari hasil prediksi, ditemukan RMSE untuk random forest regression sebesar 4081.7 dollar dan waktu modelling adalah 93.82 detik."
   ]
  },
  {
   "cell_type": "markdown",
   "metadata": {},
   "source": [
    "### LightGBM"
   ]
  },
  {
   "cell_type": "code",
   "execution_count": 179,
   "metadata": {},
   "outputs": [
    {
     "name": "stdout",
     "output_type": "stream",
     "text": [
      "Elapsed CPU time for LGBMRegressor: 4.113292880000017 seconds\n"
     ]
    }
   ],
   "source": [
    "# Record start time\n",
    "start_time = time.process_time()\n",
    "\n",
    "lgbmr = LGBMRegressor(learning_rate= 0.03,  max_depth= 4, n_estimators= 200, num_leaves=5)\n",
    "\n",
    "lgbmr.fit(X_train, y_train)\n",
    "\n",
    "# Record end time\n",
    "end_time = time.process_time()\n",
    "\n",
    "# Calculate elapsed CPU time\n",
    "elapsed_time_lgb = end_time - start_time\n",
    "print(f\"Elapsed CPU time for LGBMRegressor: {elapsed_time_lgb} seconds\")"
   ]
  },
  {
   "cell_type": "code",
   "execution_count": 180,
   "metadata": {},
   "outputs": [
    {
     "name": "stdout",
     "output_type": "stream",
     "text": [
      "MAE: 2608.55 $\n",
      "RMSE: 4088.56 $\n"
     ]
    }
   ],
   "source": [
    "y_pred_lgbmr = lgbmr.predict(X_test)\n",
    "mae_lgbmr = round(mean_absolute_error(y_test, y_pred_lgbmr), 2)\n",
    "rmse_lgbmr = round(math.sqrt(mean_squared_error(y_test, y_pred_lgbmr)), 2)\n",
    "\n",
    "print('MAE:', mae_lgbmr, '$')\n",
    "print('RMSE:', rmse_lgbmr, '$')\n"
   ]
  },
  {
   "cell_type": "markdown",
   "metadata": {},
   "source": [
    "Dari hasil prediksi, ditemukan RMSE untuk LGBMregression sebesar 4088.56 dollar dan waktu modelling adalah 3.61 detik."
   ]
  },
  {
   "cell_type": "markdown",
   "metadata": {},
   "source": [
    "### CatBoost"
   ]
  },
  {
   "cell_type": "code",
   "execution_count": 181,
   "metadata": {},
   "outputs": [
    {
     "name": "stdout",
     "output_type": "stream",
     "text": [
      "0:\tlearn: 3713.1511745\ttest: 4567.4060137\tbest: 4567.4060137 (0)\ttotal: 54.7ms\tremaining: 10.9s\n",
      "10:\tlearn: 2843.6586808\ttest: 4517.8716570\tbest: 4517.8716570 (10)\ttotal: 571ms\tremaining: 9.81s\n",
      "20:\tlearn: 2387.6519596\ttest: 4426.9491273\tbest: 4426.9491273 (20)\ttotal: 1.09s\tremaining: 9.29s\n",
      "30:\tlearn: 2149.9730040\ttest: 4340.1533103\tbest: 4340.1533103 (30)\ttotal: 1.61s\tremaining: 8.76s\n",
      "40:\tlearn: 2016.1775960\ttest: 4277.9940819\tbest: 4276.7508302 (39)\ttotal: 2.1s\tremaining: 8.14s\n",
      "50:\tlearn: 1930.6126827\ttest: 4230.4390415\tbest: 4230.4390415 (50)\ttotal: 2.6s\tremaining: 7.59s\n",
      "60:\tlearn: 1876.9742867\ttest: 4184.7650734\tbest: 4184.7650734 (60)\ttotal: 3.1s\tremaining: 7.05s\n",
      "70:\tlearn: 1841.6690300\ttest: 4164.3292345\tbest: 4164.3292345 (70)\ttotal: 3.56s\tremaining: 6.46s\n",
      "80:\tlearn: 1817.4194257\ttest: 4140.9731281\tbest: 4140.3485965 (79)\ttotal: 4.01s\tremaining: 5.9s\n",
      "90:\tlearn: 1797.7995006\ttest: 4124.9385267\tbest: 4124.9385267 (90)\ttotal: 4.49s\tremaining: 5.38s\n",
      "100:\tlearn: 1780.4421622\ttest: 4114.0516868\tbest: 4114.0516868 (100)\ttotal: 4.97s\tremaining: 4.87s\n",
      "110:\tlearn: 1767.4925031\ttest: 4102.5470284\tbest: 4102.5470284 (110)\ttotal: 5.44s\tremaining: 4.37s\n",
      "120:\tlearn: 1756.5910155\ttest: 4091.7184235\tbest: 4091.7184235 (120)\ttotal: 5.94s\tremaining: 3.88s\n",
      "130:\tlearn: 1746.9112601\ttest: 4086.8563180\tbest: 4086.8563180 (130)\ttotal: 6.44s\tremaining: 3.39s\n",
      "140:\tlearn: 1739.2149467\ttest: 4078.6100390\tbest: 4078.6100390 (140)\ttotal: 6.92s\tremaining: 2.9s\n",
      "150:\tlearn: 1731.3597391\ttest: 4071.3795904\tbest: 4071.3795904 (150)\ttotal: 7.42s\tremaining: 2.41s\n",
      "160:\tlearn: 1724.3502877\ttest: 4067.2727298\tbest: 4067.1436373 (159)\ttotal: 7.9s\tremaining: 1.91s\n",
      "170:\tlearn: 1718.8253068\ttest: 4061.9751938\tbest: 4061.9751938 (170)\ttotal: 8.37s\tremaining: 1.42s\n",
      "180:\tlearn: 1712.9766701\ttest: 4056.7672203\tbest: 4056.2295825 (179)\ttotal: 8.86s\tremaining: 930ms\n",
      "190:\tlearn: 1708.0735155\ttest: 4052.4344312\tbest: 4052.4344312 (190)\ttotal: 9.35s\tremaining: 441ms\n",
      "199:\tlearn: 1702.9617434\ttest: 4045.6670111\tbest: 4045.6670111 (199)\ttotal: 9.81s\tremaining: 0us\n",
      "\n",
      "bestTest = 4045.667011\n",
      "bestIteration = 199\n",
      "\n",
      "Elapsed CPU time for CatBoost: 9.940786050000042 seconds\n"
     ]
    }
   ],
   "source": [
    "# Record start time\n",
    "start_time = time.process_time()\n",
    "\n",
    "cb = CatBoostRegressor(iterations=200,  \n",
    "                           depth=7, \n",
    "                           learning_rate=0.05, \n",
    "                           loss_function='RMSE'  \n",
    "                           )  \n",
    "\n",
    "cb.fit(X_train, y_train, eval_set=(X_test, y_test), verbose=10)\n",
    "\n",
    "# Record end time\n",
    "end_time = time.process_time()\n",
    "\n",
    "# Calculate elapsed CPU time\n",
    "elapsed_time_cb = end_time - start_time\n",
    "\n",
    "print(f\"Elapsed CPU time for CatBoost: {elapsed_time_cb} seconds\")"
   ]
  },
  {
   "cell_type": "code",
   "execution_count": 182,
   "metadata": {},
   "outputs": [
    {
     "name": "stdout",
     "output_type": "stream",
     "text": [
      "MAE: 2602.7 $\n",
      "RMSE: 4045.67 $\n"
     ]
    }
   ],
   "source": [
    "y_pred_cb = cb.predict(X_test)\n",
    "mae_cb = round(mean_absolute_error(y_test, y_pred_cb), 2)\n",
    "rmse_cb = round(math.sqrt(mean_squared_error(y_test, y_pred_cb)), 2)\n",
    "\n",
    "print('MAE:', mae_cb, '$')\n",
    "print('RMSE:', rmse_cb, '$')\n"
   ]
  },
  {
   "cell_type": "markdown",
   "metadata": {},
   "source": [
    "Dari hasil prediksi, ditemukan RMSE untuk CatBoost sebesar 4045.67 dollar dan waktu modelling adalah 9.96 detik."
   ]
  },
  {
   "cell_type": "markdown",
   "metadata": {},
   "source": [
    "### XGBoost"
   ]
  },
  {
   "cell_type": "code",
   "execution_count": 183,
   "metadata": {},
   "outputs": [
    {
     "name": "stdout",
     "output_type": "stream",
     "text": [
      "Elapsed CPU time for XGBoost: 6.010856002000082 seconds\n"
     ]
    }
   ],
   "source": [
    "# Record start time\n",
    "start_time = time.process_time()\n",
    "\n",
    "xgb = XGBRegressor(n_estimators=175,\n",
    "                   learning_rate=0.02,\n",
    "                   booster = 'gblinear',\n",
    "                  eta = 0.01)\n",
    "xgb.fit(X_train, y_train) \n",
    "\n",
    "# Record end time\n",
    "end_time = time.process_time()\n",
    "\n",
    "# Calculate elapsed CPU time\n",
    "elapsed_time_xgb = end_time - start_time\n",
    "print(f\"Elapsed CPU time for XGBoost: {elapsed_time_xgb} seconds\")"
   ]
  },
  {
   "cell_type": "code",
   "execution_count": 184,
   "metadata": {},
   "outputs": [
    {
     "name": "stdout",
     "output_type": "stream",
     "text": [
      "MAE: 2559.28 $\n",
      "RMSE: 4069.14 $\n"
     ]
    }
   ],
   "source": [
    "y_pred_xgb = xgb.predict(X_test)\n",
    "mae_xgb = round(mean_absolute_error(y_test, y_pred_xgb), 2)\n",
    "rmse_xgb = round(math.sqrt(mean_squared_error(y_test, y_pred_xgb)), 2)\n",
    "\n",
    "print('MAE:', mae_xgb, '$')\n",
    "print('RMSE:', rmse_xgb, '$')\n"
   ]
  },
  {
   "cell_type": "markdown",
   "metadata": {},
   "source": [
    "Dari hasil prediksi, ditemukan RMSE untuk XGBoost sebesar 4069.14 dollar dan waktu modelling adalah 6.21 detik."
   ]
  },
  {
   "cell_type": "markdown",
   "metadata": {},
   "source": [
    "### Kesimpulan Umum"
   ]
  },
  {
   "cell_type": "code",
   "execution_count": 185,
   "metadata": {},
   "outputs": [
    {
     "data": {
      "text/html": [
       "<div>\n",
       "<style scoped>\n",
       "    .dataframe tbody tr th:only-of-type {\n",
       "        vertical-align: middle;\n",
       "    }\n",
       "\n",
       "    .dataframe tbody tr th {\n",
       "        vertical-align: top;\n",
       "    }\n",
       "\n",
       "    .dataframe thead th {\n",
       "        text-align: right;\n",
       "    }\n",
       "</style>\n",
       "<table border=\"1\" class=\"dataframe\">\n",
       "  <thead>\n",
       "    <tr style=\"text-align: right;\">\n",
       "      <th></th>\n",
       "      <th>Model</th>\n",
       "      <th>RMSE</th>\n",
       "      <th>MAE</th>\n",
       "      <th>Modeling Time</th>\n",
       "    </tr>\n",
       "  </thead>\n",
       "  <tbody>\n",
       "    <tr>\n",
       "      <th>0</th>\n",
       "      <td>Linear Regression</td>\n",
       "      <td>4101.93</td>\n",
       "      <td>2567.20</td>\n",
       "      <td>0.016161</td>\n",
       "    </tr>\n",
       "    <tr>\n",
       "      <th>1</th>\n",
       "      <td>Random Forest</td>\n",
       "      <td>4085.83</td>\n",
       "      <td>2675.40</td>\n",
       "      <td>88.151402</td>\n",
       "    </tr>\n",
       "    <tr>\n",
       "      <th>2</th>\n",
       "      <td>LGBMRegressor</td>\n",
       "      <td>4088.56</td>\n",
       "      <td>2608.55</td>\n",
       "      <td>4.113293</td>\n",
       "    </tr>\n",
       "    <tr>\n",
       "      <th>3</th>\n",
       "      <td>CatBoost</td>\n",
       "      <td>4045.67</td>\n",
       "      <td>2602.70</td>\n",
       "      <td>9.940786</td>\n",
       "    </tr>\n",
       "    <tr>\n",
       "      <th>4</th>\n",
       "      <td>XGBoost</td>\n",
       "      <td>4069.14</td>\n",
       "      <td>2559.28</td>\n",
       "      <td>6.010856</td>\n",
       "    </tr>\n",
       "  </tbody>\n",
       "</table>\n",
       "</div>"
      ],
      "text/plain": [
       "               Model     RMSE      MAE  Modeling Time\n",
       "0  Linear Regression  4101.93  2567.20       0.016161\n",
       "1      Random Forest  4085.83  2675.40      88.151402\n",
       "2      LGBMRegressor  4088.56  2608.55       4.113293\n",
       "3           CatBoost  4045.67  2602.70       9.940786\n",
       "4            XGBoost  4069.14  2559.28       6.010856"
      ]
     },
     "execution_count": 185,
     "metadata": {},
     "output_type": "execute_result"
    }
   ],
   "source": [
    "pd.DataFrame({'Model':['Linear Regression','Random Forest','LGBMRegressor','CatBoost','XGBoost'],\n",
    "                'RMSE':[rmse_lir, rmse_rf, rmse_lgbmr, rmse_cb, rmse_xgb], \n",
    "                'MAE':[mae_lir, mae_rf, mae_lgbmr, mae_cb, mae_xgb],\n",
    "              'Modeling Time':[elapsed_time_lir,elapsed_time_rf,elapsed_time_lgb,elapsed_time_cb,elapsed_time_xgb]\n",
    "             })"
   ]
  },
  {
   "cell_type": "markdown",
   "metadata": {},
   "source": [
    "Dari hasil yang didapat, ditemukan model-model dengan hyper parameter memiliki RMSE yang lebih kecil dibandingkan dengan model Linear Regression. Model dengan RMSE terkecil terdapat pada model CatBoost dengan waktu pemodelan 9.969 detik dan hyperparameter:\n",
    "- iterations = 200\n",
    "- depth = 7\n",
    "- learning_rate = 0.05\n",
    "- loss_function = 'RMSE'\n"
   ]
  },
  {
   "cell_type": "markdown",
   "metadata": {},
   "source": [
    "# Kesimpulan"
   ]
  },
  {
   "cell_type": "markdown",
   "metadata": {},
   "source": [
    "Pada awal mula, ditemukan beberapa masalah dalam dataset yakni,\n",
    "- Nama kolom dalam huruf besar\n",
    "- Nilai kosong dan nilai duplikasi\n",
    "- Kolom-kolom berisikan tanggal dan waktu masih bertipe *object*, kolom tersebut perlu diubah menjadi tipe *datetime*\n",
    "\n",
    "Sebelum nilai hilang diisi, kita akan membagi data menjadi train dataset dan test dataset agar tidak terjadi overfitting pada saat modelling. Dalam pengisian nilai hilang, nilai-nilai tersebut diisikan dengan nilai *unknown* atau *other* sesuai dengan yang dibutuhkan kolom-kolom dengan nilai hilang.\n",
    "\n",
    "Melalui boxplot, ditemukan kolom **power** dan **mileage** perlu dibersihkan terlebih dahulu di mana, terdapat outlier yang perlu dihapus pada kedua kolom tersebut dan pada kolom **power** ditemukan nilai 0 yang seharusnya tidak mungkin terjadi. Nilai 0 tersebut akan diubah menjadi nilai hilang dan diisi dengan nilai mean dari data yang dikelompokkan menurut kolom **vehicle_type**.\n",
    "\n",
    "Sebelum modelling dilakukan, beberapa fitur perlu diubah dahulu. Fitur-fitur tersebut adalah, **vehicle_type, gearbox, fuel_type, not_repaired dan brand**. Fitur-fitur lainnya yang berisikan nilai datetime tidak digunakan beserta dengan fitur-fitur personal seperti **number_of_pictures** dan **postal_code**. Fitur **model** juga tidak digunakan karena terlalu banyak nilai uniknya. Kita menggunakan label encoder dalam pengubahan nilai-nilai tersebut dan setelah dilakukan, kita melakukan scaler agar fitur dengan nilai besar tidak mempengaruhi hasil modelling.\n",
    "\n",
    "Hasil modelling dapat dilihat dari rangkuman berikut:"
   ]
  },
  {
   "cell_type": "code",
   "execution_count": 186,
   "metadata": {
    "scrolled": false
   },
   "outputs": [
    {
     "data": {
      "text/html": [
       "<div>\n",
       "<style scoped>\n",
       "    .dataframe tbody tr th:only-of-type {\n",
       "        vertical-align: middle;\n",
       "    }\n",
       "\n",
       "    .dataframe tbody tr th {\n",
       "        vertical-align: top;\n",
       "    }\n",
       "\n",
       "    .dataframe thead th {\n",
       "        text-align: right;\n",
       "    }\n",
       "</style>\n",
       "<table border=\"1\" class=\"dataframe\">\n",
       "  <thead>\n",
       "    <tr style=\"text-align: right;\">\n",
       "      <th></th>\n",
       "      <th>Model</th>\n",
       "      <th>RMSE</th>\n",
       "      <th>MAE</th>\n",
       "      <th>Modeling Time</th>\n",
       "    </tr>\n",
       "  </thead>\n",
       "  <tbody>\n",
       "    <tr>\n",
       "      <th>0</th>\n",
       "      <td>Linear Regression</td>\n",
       "      <td>4101.93</td>\n",
       "      <td>2567.20</td>\n",
       "      <td>0.016161</td>\n",
       "    </tr>\n",
       "    <tr>\n",
       "      <th>1</th>\n",
       "      <td>Random Forest</td>\n",
       "      <td>4085.83</td>\n",
       "      <td>2675.40</td>\n",
       "      <td>88.151402</td>\n",
       "    </tr>\n",
       "    <tr>\n",
       "      <th>2</th>\n",
       "      <td>LGBMRegressor</td>\n",
       "      <td>4088.56</td>\n",
       "      <td>2608.55</td>\n",
       "      <td>4.113293</td>\n",
       "    </tr>\n",
       "    <tr>\n",
       "      <th>3</th>\n",
       "      <td>CatBoost</td>\n",
       "      <td>4045.67</td>\n",
       "      <td>2602.70</td>\n",
       "      <td>9.940786</td>\n",
       "    </tr>\n",
       "    <tr>\n",
       "      <th>4</th>\n",
       "      <td>XGBoost</td>\n",
       "      <td>4069.14</td>\n",
       "      <td>2559.28</td>\n",
       "      <td>6.010856</td>\n",
       "    </tr>\n",
       "  </tbody>\n",
       "</table>\n",
       "</div>"
      ],
      "text/plain": [
       "               Model     RMSE      MAE  Modeling Time\n",
       "0  Linear Regression  4101.93  2567.20       0.016161\n",
       "1      Random Forest  4085.83  2675.40      88.151402\n",
       "2      LGBMRegressor  4088.56  2608.55       4.113293\n",
       "3           CatBoost  4045.67  2602.70       9.940786\n",
       "4            XGBoost  4069.14  2559.28       6.010856"
      ]
     },
     "execution_count": 186,
     "metadata": {},
     "output_type": "execute_result"
    }
   ],
   "source": [
    "pd.DataFrame({'Model':['Linear Regression','Random Forest','LGBMRegressor','CatBoost','XGBoost'],\n",
    "                'RMSE':[rmse_lir, rmse_rf, rmse_lgbmr, rmse_cb, rmse_xgb], \n",
    "                'MAE':[mae_lir, mae_rf, mae_lgbmr, mae_cb, mae_xgb],\n",
    "              'Modeling Time':[elapsed_time_lir,elapsed_time_rf,elapsed_time_lgb,elapsed_time_cb,elapsed_time_xgb]\n",
    "             })"
   ]
  },
  {
   "cell_type": "markdown",
   "metadata": {},
   "source": [
    "Dapat dilihat, model dengan nilai RMSE terendah terdapat pada Categorical Boosting dengan nilai 4045.67 dollar dan dengan waktu modelling sebesar 9.96 detik. Model tersebut juga menggunakan hyperparameter berikut:\n",
    "- iterations = 200\n",
    "- depth = 7\n",
    "- learning_rate = 0.05\n",
    "- loss_function = 'RMSE'\n"
   ]
  },
  {
   "cell_type": "markdown",
   "metadata": {},
   "source": [
    "# Daftar Periksa"
   ]
  },
  {
   "cell_type": "markdown",
   "metadata": {},
   "source": [
    "Ketik 'x' untuk menandakannya sebagai selesai. Lalu, tekan tombol Shift+Enter"
   ]
  },
  {
   "cell_type": "markdown",
   "metadata": {},
   "source": [
    "- [x]  Jupyter Notebook bisa dibuka\n",
    "- [x]  Tidak ada kesalahan pada kode\n",
    "- [x]  Sel-sel dengan kode telah disusun berdasarkan urutan eksekusi\n",
    "- [x]  Data telah diunduh dan disiapkan- [ ]  Model sudah dilatih\n",
    "- [x]  Analisis terhadap kecepatan dan kualitas model telah dilakukan"
   ]
  },
  {
   "cell_type": "code",
   "execution_count": null,
   "metadata": {},
   "outputs": [],
   "source": []
  }
 ],
 "metadata": {
  "kernelspec": {
   "display_name": "Python 3 (ipykernel)",
   "language": "python",
   "name": "python3"
  },
  "language_info": {
   "codemirror_mode": {
    "name": "ipython",
    "version": 3
   },
   "file_extension": ".py",
   "mimetype": "text/x-python",
   "name": "python",
   "nbconvert_exporter": "python",
   "pygments_lexer": "ipython3",
   "version": "3.9.5"
  },
  "toc": {
   "base_numbering": 1,
   "nav_menu": {},
   "number_sections": true,
   "sideBar": true,
   "skip_h1_title": true,
   "title_cell": "Table of Contents",
   "title_sidebar": "Contents",
   "toc_cell": false,
   "toc_position": {},
   "toc_section_display": true,
   "toc_window_display": false
  }
 },
 "nbformat": 4,
 "nbformat_minor": 2
}
